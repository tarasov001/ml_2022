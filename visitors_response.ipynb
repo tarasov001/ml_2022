{
  "nbformat": 4,
  "nbformat_minor": 0,
  "metadata": {
    "colab": {
      "provenance": [],
      "collapsed_sections": [
        "6eifSYAmTSMz",
        "nUPL7cUoTyWq",
        "RWwlQ31wdRZu",
        "OmBjprDxdU1a",
        "vCKO1BTPfA6r",
        "pio1trHQfTx-",
        "zGgY8hougFl4",
        "PAJpCNjiZemd",
        "s4zopnF2Ckus",
        "t4rlX3R7hroe",
        "tG5zYYgWhyiH",
        "geBAm3HS7OoL",
        "T2Uh6jQgj2_D",
        "VwG4D6XgBRLz"
      ],
      "authorship_tag": "ABX9TyPZ+rbxuCcCDfz37vwY0eDb",
      "include_colab_link": true
    },
    "kernelspec": {
      "name": "python3",
      "display_name": "Python 3"
    },
    "language_info": {
      "name": "python"
    }
  },
  "cells": [
    {
      "cell_type": "markdown",
      "metadata": {
        "id": "view-in-github",
        "colab_type": "text"
      },
      "source": [
        "<a href=\"https://colab.research.google.com/github/tarasov001/ml_2022/blob/main/visitors_response.ipynb\" target=\"_parent\"><img src=\"https://colab.research.google.com/assets/colab-badge.svg\" alt=\"Open In Colab\"/></a>"
      ]
    },
    {
      "cell_type": "markdown",
      "source": [
        "Описание задачи: \\\n",
        "В данных имеется информация о сессиях пользователей. \n",
        "Необходимо определить будет ли завершена сессия транзацией."
      ],
      "metadata": {
        "id": "O0OdU_QgBGxp"
      }
    },
    {
      "cell_type": "code",
      "source": [
        "import numpy as np\n",
        "import pandas as pd\n",
        "import matplotlib.pyplot as plt\n",
        "import seaborn as sns\n",
        "\n",
        "%matplotlib inline \n",
        "%autosave 10"
      ],
      "metadata": {
        "colab": {
          "base_uri": "https://localhost:8080/",
          "height": 34
        },
        "id": "5cAQMKb8RS1W",
        "outputId": "be7a8706-cbb9-4264-f7c2-e00ad5dccb73"
      },
      "execution_count": null,
      "outputs": [
        {
          "output_type": "display_data",
          "data": {
            "application/javascript": [
              "IPython.notebook.set_autosave_interval(10000)"
            ]
          },
          "metadata": {}
        },
        {
          "output_type": "stream",
          "name": "stdout",
          "text": [
            "Autosaving every 10 seconds\n"
          ]
        }
      ]
    },
    {
      "cell_type": "markdown",
      "source": [
        "# 0. Data uploading"
      ],
      "metadata": {
        "id": "6eifSYAmTSMz"
      }
    },
    {
      "cell_type": "code",
      "execution_count": null,
      "metadata": {
        "colab": {
          "base_uri": "https://localhost:8080/"
        },
        "id": "6YAuofTyRO6M",
        "outputId": "c224db3e-6b01-4d77-8142-d67752f6c70f"
      },
      "outputs": [
        {
          "output_type": "stream",
          "name": "stdout",
          "text": [
            "Mounted at /content/drive\n"
          ]
        }
      ],
      "source": [
        "from google.colab import drive\n",
        "drive.mount('/content/drive')"
      ]
    },
    {
      "cell_type": "code",
      "source": [
        "df = pd.read_csv(\"drive/MyDrive/Учеба/ml/datasets/visitors_response.csv\")"
      ],
      "metadata": {
        "id": "vRCGCJ0RUVKJ"
      },
      "execution_count": null,
      "outputs": []
    },
    {
      "cell_type": "markdown",
      "source": [
        "# 1. EDA"
      ],
      "metadata": {
        "id": "nUPL7cUoTyWq"
      }
    },
    {
      "cell_type": "code",
      "source": [
        "df.head()"
      ],
      "metadata": {
        "id": "a6f1VFoTTxh0",
        "colab": {
          "base_uri": "https://localhost:8080/",
          "height": 353
        },
        "outputId": "b0a6e5af-8a46-4af6-d0c2-bcdbc27ac93d"
      },
      "execution_count": null,
      "outputs": [
        {
          "output_type": "execute_result",
          "data": {
            "text/plain": [
              "   Unnamed: 0  Administrative  Administrative_Duration  Informational  \\\n",
              "0           0               0                      0.0              0   \n",
              "1           1               0                      0.0              0   \n",
              "2           2               0                      0.0              0   \n",
              "3           3               0                      0.0              0   \n",
              "4           4               0                      0.0              0   \n",
              "\n",
              "   Informational_Duration  ProductRelated  ProductRelated_Duration  \\\n",
              "0                     0.0               1                 0.000000   \n",
              "1                     0.0               2                64.000000   \n",
              "2                     0.0               1                 0.000000   \n",
              "3                     0.0               2                 2.666667   \n",
              "4                     0.0              10               627.500000   \n",
              "\n",
              "   BounceRates  ExitRates  PageValues  SpecialDay Month OperatingSystems  \\\n",
              "0         0.20       0.20         0.0         0.0   Feb          Android   \n",
              "1         0.00       0.10         0.0         0.0   Feb              ios   \n",
              "2         0.20       0.20         0.0         0.0   Feb            macos   \n",
              "3         0.05       0.14         0.0         0.0   Feb          Windows   \n",
              "4         0.02       0.05         0.0         0.0   Feb          Windows   \n",
              "\n",
              "          Browser         Region  TrafficType        VisitorType  Weekend  \\\n",
              "0   Google Chrome         London            1  Returning_Visitor    False   \n",
              "1         Firefox         London            2  Returning_Visitor    False   \n",
              "2   Google Chrome  East Midlands            3  Returning_Visitor    False   \n",
              "3         Firefox     South West            4  Returning_Visitor    False   \n",
              "4  Microsoft Edge         London            4  Returning_Visitor     True   \n",
              "\n",
              "   Revenue  \n",
              "0    False  \n",
              "1    False  \n",
              "2    False  \n",
              "3    False  \n",
              "4    False  "
            ],
            "text/html": [
              "\n",
              "  <div id=\"df-bdc02f70-bc15-44a5-9d83-3d80729b59c2\">\n",
              "    <div class=\"colab-df-container\">\n",
              "      <div>\n",
              "<style scoped>\n",
              "    .dataframe tbody tr th:only-of-type {\n",
              "        vertical-align: middle;\n",
              "    }\n",
              "\n",
              "    .dataframe tbody tr th {\n",
              "        vertical-align: top;\n",
              "    }\n",
              "\n",
              "    .dataframe thead th {\n",
              "        text-align: right;\n",
              "    }\n",
              "</style>\n",
              "<table border=\"1\" class=\"dataframe\">\n",
              "  <thead>\n",
              "    <tr style=\"text-align: right;\">\n",
              "      <th></th>\n",
              "      <th>Unnamed: 0</th>\n",
              "      <th>Administrative</th>\n",
              "      <th>Administrative_Duration</th>\n",
              "      <th>Informational</th>\n",
              "      <th>Informational_Duration</th>\n",
              "      <th>ProductRelated</th>\n",
              "      <th>ProductRelated_Duration</th>\n",
              "      <th>BounceRates</th>\n",
              "      <th>ExitRates</th>\n",
              "      <th>PageValues</th>\n",
              "      <th>SpecialDay</th>\n",
              "      <th>Month</th>\n",
              "      <th>OperatingSystems</th>\n",
              "      <th>Browser</th>\n",
              "      <th>Region</th>\n",
              "      <th>TrafficType</th>\n",
              "      <th>VisitorType</th>\n",
              "      <th>Weekend</th>\n",
              "      <th>Revenue</th>\n",
              "    </tr>\n",
              "  </thead>\n",
              "  <tbody>\n",
              "    <tr>\n",
              "      <th>0</th>\n",
              "      <td>0</td>\n",
              "      <td>0</td>\n",
              "      <td>0.0</td>\n",
              "      <td>0</td>\n",
              "      <td>0.0</td>\n",
              "      <td>1</td>\n",
              "      <td>0.000000</td>\n",
              "      <td>0.20</td>\n",
              "      <td>0.20</td>\n",
              "      <td>0.0</td>\n",
              "      <td>0.0</td>\n",
              "      <td>Feb</td>\n",
              "      <td>Android</td>\n",
              "      <td>Google Chrome</td>\n",
              "      <td>London</td>\n",
              "      <td>1</td>\n",
              "      <td>Returning_Visitor</td>\n",
              "      <td>False</td>\n",
              "      <td>False</td>\n",
              "    </tr>\n",
              "    <tr>\n",
              "      <th>1</th>\n",
              "      <td>1</td>\n",
              "      <td>0</td>\n",
              "      <td>0.0</td>\n",
              "      <td>0</td>\n",
              "      <td>0.0</td>\n",
              "      <td>2</td>\n",
              "      <td>64.000000</td>\n",
              "      <td>0.00</td>\n",
              "      <td>0.10</td>\n",
              "      <td>0.0</td>\n",
              "      <td>0.0</td>\n",
              "      <td>Feb</td>\n",
              "      <td>ios</td>\n",
              "      <td>Firefox</td>\n",
              "      <td>London</td>\n",
              "      <td>2</td>\n",
              "      <td>Returning_Visitor</td>\n",
              "      <td>False</td>\n",
              "      <td>False</td>\n",
              "    </tr>\n",
              "    <tr>\n",
              "      <th>2</th>\n",
              "      <td>2</td>\n",
              "      <td>0</td>\n",
              "      <td>0.0</td>\n",
              "      <td>0</td>\n",
              "      <td>0.0</td>\n",
              "      <td>1</td>\n",
              "      <td>0.000000</td>\n",
              "      <td>0.20</td>\n",
              "      <td>0.20</td>\n",
              "      <td>0.0</td>\n",
              "      <td>0.0</td>\n",
              "      <td>Feb</td>\n",
              "      <td>macos</td>\n",
              "      <td>Google Chrome</td>\n",
              "      <td>East Midlands</td>\n",
              "      <td>3</td>\n",
              "      <td>Returning_Visitor</td>\n",
              "      <td>False</td>\n",
              "      <td>False</td>\n",
              "    </tr>\n",
              "    <tr>\n",
              "      <th>3</th>\n",
              "      <td>3</td>\n",
              "      <td>0</td>\n",
              "      <td>0.0</td>\n",
              "      <td>0</td>\n",
              "      <td>0.0</td>\n",
              "      <td>2</td>\n",
              "      <td>2.666667</td>\n",
              "      <td>0.05</td>\n",
              "      <td>0.14</td>\n",
              "      <td>0.0</td>\n",
              "      <td>0.0</td>\n",
              "      <td>Feb</td>\n",
              "      <td>Windows</td>\n",
              "      <td>Firefox</td>\n",
              "      <td>South West</td>\n",
              "      <td>4</td>\n",
              "      <td>Returning_Visitor</td>\n",
              "      <td>False</td>\n",
              "      <td>False</td>\n",
              "    </tr>\n",
              "    <tr>\n",
              "      <th>4</th>\n",
              "      <td>4</td>\n",
              "      <td>0</td>\n",
              "      <td>0.0</td>\n",
              "      <td>0</td>\n",
              "      <td>0.0</td>\n",
              "      <td>10</td>\n",
              "      <td>627.500000</td>\n",
              "      <td>0.02</td>\n",
              "      <td>0.05</td>\n",
              "      <td>0.0</td>\n",
              "      <td>0.0</td>\n",
              "      <td>Feb</td>\n",
              "      <td>Windows</td>\n",
              "      <td>Microsoft Edge</td>\n",
              "      <td>London</td>\n",
              "      <td>4</td>\n",
              "      <td>Returning_Visitor</td>\n",
              "      <td>True</td>\n",
              "      <td>False</td>\n",
              "    </tr>\n",
              "  </tbody>\n",
              "</table>\n",
              "</div>\n",
              "      <button class=\"colab-df-convert\" onclick=\"convertToInteractive('df-bdc02f70-bc15-44a5-9d83-3d80729b59c2')\"\n",
              "              title=\"Convert this dataframe to an interactive table.\"\n",
              "              style=\"display:none;\">\n",
              "        \n",
              "  <svg xmlns=\"http://www.w3.org/2000/svg\" height=\"24px\"viewBox=\"0 0 24 24\"\n",
              "       width=\"24px\">\n",
              "    <path d=\"M0 0h24v24H0V0z\" fill=\"none\"/>\n",
              "    <path d=\"M18.56 5.44l.94 2.06.94-2.06 2.06-.94-2.06-.94-.94-2.06-.94 2.06-2.06.94zm-11 1L8.5 8.5l.94-2.06 2.06-.94-2.06-.94L8.5 2.5l-.94 2.06-2.06.94zm10 10l.94 2.06.94-2.06 2.06-.94-2.06-.94-.94-2.06-.94 2.06-2.06.94z\"/><path d=\"M17.41 7.96l-1.37-1.37c-.4-.4-.92-.59-1.43-.59-.52 0-1.04.2-1.43.59L10.3 9.45l-7.72 7.72c-.78.78-.78 2.05 0 2.83L4 21.41c.39.39.9.59 1.41.59.51 0 1.02-.2 1.41-.59l7.78-7.78 2.81-2.81c.8-.78.8-2.07 0-2.86zM5.41 20L4 18.59l7.72-7.72 1.47 1.35L5.41 20z\"/>\n",
              "  </svg>\n",
              "      </button>\n",
              "      \n",
              "  <style>\n",
              "    .colab-df-container {\n",
              "      display:flex;\n",
              "      flex-wrap:wrap;\n",
              "      gap: 12px;\n",
              "    }\n",
              "\n",
              "    .colab-df-convert {\n",
              "      background-color: #E8F0FE;\n",
              "      border: none;\n",
              "      border-radius: 50%;\n",
              "      cursor: pointer;\n",
              "      display: none;\n",
              "      fill: #1967D2;\n",
              "      height: 32px;\n",
              "      padding: 0 0 0 0;\n",
              "      width: 32px;\n",
              "    }\n",
              "\n",
              "    .colab-df-convert:hover {\n",
              "      background-color: #E2EBFA;\n",
              "      box-shadow: 0px 1px 2px rgba(60, 64, 67, 0.3), 0px 1px 3px 1px rgba(60, 64, 67, 0.15);\n",
              "      fill: #174EA6;\n",
              "    }\n",
              "\n",
              "    [theme=dark] .colab-df-convert {\n",
              "      background-color: #3B4455;\n",
              "      fill: #D2E3FC;\n",
              "    }\n",
              "\n",
              "    [theme=dark] .colab-df-convert:hover {\n",
              "      background-color: #434B5C;\n",
              "      box-shadow: 0px 1px 3px 1px rgba(0, 0, 0, 0.15);\n",
              "      filter: drop-shadow(0px 1px 2px rgba(0, 0, 0, 0.3));\n",
              "      fill: #FFFFFF;\n",
              "    }\n",
              "  </style>\n",
              "\n",
              "      <script>\n",
              "        const buttonEl =\n",
              "          document.querySelector('#df-bdc02f70-bc15-44a5-9d83-3d80729b59c2 button.colab-df-convert');\n",
              "        buttonEl.style.display =\n",
              "          google.colab.kernel.accessAllowed ? 'block' : 'none';\n",
              "\n",
              "        async function convertToInteractive(key) {\n",
              "          const element = document.querySelector('#df-bdc02f70-bc15-44a5-9d83-3d80729b59c2');\n",
              "          const dataTable =\n",
              "            await google.colab.kernel.invokeFunction('convertToInteractive',\n",
              "                                                     [key], {});\n",
              "          if (!dataTable) return;\n",
              "\n",
              "          const docLinkHtml = 'Like what you see? Visit the ' +\n",
              "            '<a target=\"_blank\" href=https://colab.research.google.com/notebooks/data_table.ipynb>data table notebook</a>'\n",
              "            + ' to learn more about interactive tables.';\n",
              "          element.innerHTML = '';\n",
              "          dataTable['output_type'] = 'display_data';\n",
              "          await google.colab.output.renderOutput(dataTable, element);\n",
              "          const docLink = document.createElement('div');\n",
              "          docLink.innerHTML = docLinkHtml;\n",
              "          element.appendChild(docLink);\n",
              "        }\n",
              "      </script>\n",
              "    </div>\n",
              "  </div>\n",
              "  "
            ]
          },
          "metadata": {},
          "execution_count": 4
        }
      ]
    },
    {
      "cell_type": "code",
      "source": [
        "df.drop('Unnamed: 0', axis=1, inplace=True)"
      ],
      "metadata": {
        "id": "yqsTfWOWUzhv"
      },
      "execution_count": null,
      "outputs": []
    },
    {
      "cell_type": "code",
      "source": [
        "df.shape"
      ],
      "metadata": {
        "id": "xLpNi0fnUZFx",
        "colab": {
          "base_uri": "https://localhost:8080/"
        },
        "outputId": "32696cae-358e-4943-bf49-a1db9e1f79be"
      },
      "execution_count": null,
      "outputs": [
        {
          "output_type": "execute_result",
          "data": {
            "text/plain": [
              "(12330, 18)"
            ]
          },
          "metadata": {},
          "execution_count": 6
        }
      ]
    },
    {
      "cell_type": "code",
      "source": [
        "df.info()"
      ],
      "metadata": {
        "id": "DSJJ5NdMUajC",
        "colab": {
          "base_uri": "https://localhost:8080/"
        },
        "outputId": "a1f97a5e-02a7-4712-8b61-97b14e980550"
      },
      "execution_count": null,
      "outputs": [
        {
          "output_type": "stream",
          "name": "stdout",
          "text": [
            "<class 'pandas.core.frame.DataFrame'>\n",
            "RangeIndex: 12330 entries, 0 to 12329\n",
            "Data columns (total 18 columns):\n",
            " #   Column                   Non-Null Count  Dtype  \n",
            "---  ------                   --------------  -----  \n",
            " 0   Administrative           12330 non-null  int64  \n",
            " 1   Administrative_Duration  12330 non-null  float64\n",
            " 2   Informational            12330 non-null  int64  \n",
            " 3   Informational_Duration   12330 non-null  float64\n",
            " 4   ProductRelated           12330 non-null  int64  \n",
            " 5   ProductRelated_Duration  12330 non-null  float64\n",
            " 6   BounceRates              12330 non-null  float64\n",
            " 7   ExitRates                12330 non-null  float64\n",
            " 8   PageValues               12330 non-null  float64\n",
            " 9   SpecialDay               12330 non-null  float64\n",
            " 10  Month                    12330 non-null  object \n",
            " 11  OperatingSystems         12323 non-null  object \n",
            " 12  Browser                  12330 non-null  object \n",
            " 13  Region                   12330 non-null  object \n",
            " 14  TrafficType              12330 non-null  int64  \n",
            " 15  VisitorType              12330 non-null  object \n",
            " 16  Weekend                  12330 non-null  bool   \n",
            " 17  Revenue                  12330 non-null  bool   \n",
            "dtypes: bool(2), float64(7), int64(4), object(5)\n",
            "memory usage: 1.5+ MB\n"
          ]
        }
      ]
    },
    {
      "cell_type": "code",
      "source": [
        "df.describe()"
      ],
      "metadata": {
        "id": "4W0TrtqbUjtd",
        "colab": {
          "base_uri": "https://localhost:8080/",
          "height": 361
        },
        "outputId": "d8472b0f-65be-410c-9d43-301d9c0f8749"
      },
      "execution_count": null,
      "outputs": [
        {
          "output_type": "execute_result",
          "data": {
            "text/plain": [
              "       Administrative  Administrative_Duration  Informational  \\\n",
              "count    12330.000000             12330.000000   12330.000000   \n",
              "mean         2.315166                80.818611       0.503569   \n",
              "std          3.321784               176.779107       1.270156   \n",
              "min          0.000000                 0.000000       0.000000   \n",
              "25%          0.000000                 0.000000       0.000000   \n",
              "50%          1.000000                 7.500000       0.000000   \n",
              "75%          4.000000                93.256250       0.000000   \n",
              "max         27.000000              3398.750000      24.000000   \n",
              "\n",
              "       Informational_Duration  ProductRelated  ProductRelated_Duration  \\\n",
              "count            12330.000000    12330.000000             12330.000000   \n",
              "mean                34.472398       31.731468              1194.746220   \n",
              "std                140.749294       44.475503              1913.669288   \n",
              "min                  0.000000        0.000000                 0.000000   \n",
              "25%                  0.000000        7.000000               184.137500   \n",
              "50%                  0.000000       18.000000               598.936905   \n",
              "75%                  0.000000       38.000000              1464.157214   \n",
              "max               2549.375000      705.000000             63973.522230   \n",
              "\n",
              "        BounceRates     ExitRates    PageValues    SpecialDay   TrafficType  \n",
              "count  12330.000000  12330.000000  12330.000000  12330.000000  12330.000000  \n",
              "mean       0.022191      0.043073      5.889258      0.061427      4.069586  \n",
              "std        0.048488      0.048597     18.568437      0.198917      4.025169  \n",
              "min        0.000000      0.000000      0.000000      0.000000      1.000000  \n",
              "25%        0.000000      0.014286      0.000000      0.000000      2.000000  \n",
              "50%        0.003112      0.025156      0.000000      0.000000      2.000000  \n",
              "75%        0.016813      0.050000      0.000000      0.000000      4.000000  \n",
              "max        0.200000      0.200000    361.763742      1.000000     20.000000  "
            ],
            "text/html": [
              "\n",
              "  <div id=\"df-d093e846-c8e2-4fe6-8972-99a95e0f8de0\">\n",
              "    <div class=\"colab-df-container\">\n",
              "      <div>\n",
              "<style scoped>\n",
              "    .dataframe tbody tr th:only-of-type {\n",
              "        vertical-align: middle;\n",
              "    }\n",
              "\n",
              "    .dataframe tbody tr th {\n",
              "        vertical-align: top;\n",
              "    }\n",
              "\n",
              "    .dataframe thead th {\n",
              "        text-align: right;\n",
              "    }\n",
              "</style>\n",
              "<table border=\"1\" class=\"dataframe\">\n",
              "  <thead>\n",
              "    <tr style=\"text-align: right;\">\n",
              "      <th></th>\n",
              "      <th>Administrative</th>\n",
              "      <th>Administrative_Duration</th>\n",
              "      <th>Informational</th>\n",
              "      <th>Informational_Duration</th>\n",
              "      <th>ProductRelated</th>\n",
              "      <th>ProductRelated_Duration</th>\n",
              "      <th>BounceRates</th>\n",
              "      <th>ExitRates</th>\n",
              "      <th>PageValues</th>\n",
              "      <th>SpecialDay</th>\n",
              "      <th>TrafficType</th>\n",
              "    </tr>\n",
              "  </thead>\n",
              "  <tbody>\n",
              "    <tr>\n",
              "      <th>count</th>\n",
              "      <td>12330.000000</td>\n",
              "      <td>12330.000000</td>\n",
              "      <td>12330.000000</td>\n",
              "      <td>12330.000000</td>\n",
              "      <td>12330.000000</td>\n",
              "      <td>12330.000000</td>\n",
              "      <td>12330.000000</td>\n",
              "      <td>12330.000000</td>\n",
              "      <td>12330.000000</td>\n",
              "      <td>12330.000000</td>\n",
              "      <td>12330.000000</td>\n",
              "    </tr>\n",
              "    <tr>\n",
              "      <th>mean</th>\n",
              "      <td>2.315166</td>\n",
              "      <td>80.818611</td>\n",
              "      <td>0.503569</td>\n",
              "      <td>34.472398</td>\n",
              "      <td>31.731468</td>\n",
              "      <td>1194.746220</td>\n",
              "      <td>0.022191</td>\n",
              "      <td>0.043073</td>\n",
              "      <td>5.889258</td>\n",
              "      <td>0.061427</td>\n",
              "      <td>4.069586</td>\n",
              "    </tr>\n",
              "    <tr>\n",
              "      <th>std</th>\n",
              "      <td>3.321784</td>\n",
              "      <td>176.779107</td>\n",
              "      <td>1.270156</td>\n",
              "      <td>140.749294</td>\n",
              "      <td>44.475503</td>\n",
              "      <td>1913.669288</td>\n",
              "      <td>0.048488</td>\n",
              "      <td>0.048597</td>\n",
              "      <td>18.568437</td>\n",
              "      <td>0.198917</td>\n",
              "      <td>4.025169</td>\n",
              "    </tr>\n",
              "    <tr>\n",
              "      <th>min</th>\n",
              "      <td>0.000000</td>\n",
              "      <td>0.000000</td>\n",
              "      <td>0.000000</td>\n",
              "      <td>0.000000</td>\n",
              "      <td>0.000000</td>\n",
              "      <td>0.000000</td>\n",
              "      <td>0.000000</td>\n",
              "      <td>0.000000</td>\n",
              "      <td>0.000000</td>\n",
              "      <td>0.000000</td>\n",
              "      <td>1.000000</td>\n",
              "    </tr>\n",
              "    <tr>\n",
              "      <th>25%</th>\n",
              "      <td>0.000000</td>\n",
              "      <td>0.000000</td>\n",
              "      <td>0.000000</td>\n",
              "      <td>0.000000</td>\n",
              "      <td>7.000000</td>\n",
              "      <td>184.137500</td>\n",
              "      <td>0.000000</td>\n",
              "      <td>0.014286</td>\n",
              "      <td>0.000000</td>\n",
              "      <td>0.000000</td>\n",
              "      <td>2.000000</td>\n",
              "    </tr>\n",
              "    <tr>\n",
              "      <th>50%</th>\n",
              "      <td>1.000000</td>\n",
              "      <td>7.500000</td>\n",
              "      <td>0.000000</td>\n",
              "      <td>0.000000</td>\n",
              "      <td>18.000000</td>\n",
              "      <td>598.936905</td>\n",
              "      <td>0.003112</td>\n",
              "      <td>0.025156</td>\n",
              "      <td>0.000000</td>\n",
              "      <td>0.000000</td>\n",
              "      <td>2.000000</td>\n",
              "    </tr>\n",
              "    <tr>\n",
              "      <th>75%</th>\n",
              "      <td>4.000000</td>\n",
              "      <td>93.256250</td>\n",
              "      <td>0.000000</td>\n",
              "      <td>0.000000</td>\n",
              "      <td>38.000000</td>\n",
              "      <td>1464.157214</td>\n",
              "      <td>0.016813</td>\n",
              "      <td>0.050000</td>\n",
              "      <td>0.000000</td>\n",
              "      <td>0.000000</td>\n",
              "      <td>4.000000</td>\n",
              "    </tr>\n",
              "    <tr>\n",
              "      <th>max</th>\n",
              "      <td>27.000000</td>\n",
              "      <td>3398.750000</td>\n",
              "      <td>24.000000</td>\n",
              "      <td>2549.375000</td>\n",
              "      <td>705.000000</td>\n",
              "      <td>63973.522230</td>\n",
              "      <td>0.200000</td>\n",
              "      <td>0.200000</td>\n",
              "      <td>361.763742</td>\n",
              "      <td>1.000000</td>\n",
              "      <td>20.000000</td>\n",
              "    </tr>\n",
              "  </tbody>\n",
              "</table>\n",
              "</div>\n",
              "      <button class=\"colab-df-convert\" onclick=\"convertToInteractive('df-d093e846-c8e2-4fe6-8972-99a95e0f8de0')\"\n",
              "              title=\"Convert this dataframe to an interactive table.\"\n",
              "              style=\"display:none;\">\n",
              "        \n",
              "  <svg xmlns=\"http://www.w3.org/2000/svg\" height=\"24px\"viewBox=\"0 0 24 24\"\n",
              "       width=\"24px\">\n",
              "    <path d=\"M0 0h24v24H0V0z\" fill=\"none\"/>\n",
              "    <path d=\"M18.56 5.44l.94 2.06.94-2.06 2.06-.94-2.06-.94-.94-2.06-.94 2.06-2.06.94zm-11 1L8.5 8.5l.94-2.06 2.06-.94-2.06-.94L8.5 2.5l-.94 2.06-2.06.94zm10 10l.94 2.06.94-2.06 2.06-.94-2.06-.94-.94-2.06-.94 2.06-2.06.94z\"/><path d=\"M17.41 7.96l-1.37-1.37c-.4-.4-.92-.59-1.43-.59-.52 0-1.04.2-1.43.59L10.3 9.45l-7.72 7.72c-.78.78-.78 2.05 0 2.83L4 21.41c.39.39.9.59 1.41.59.51 0 1.02-.2 1.41-.59l7.78-7.78 2.81-2.81c.8-.78.8-2.07 0-2.86zM5.41 20L4 18.59l7.72-7.72 1.47 1.35L5.41 20z\"/>\n",
              "  </svg>\n",
              "      </button>\n",
              "      \n",
              "  <style>\n",
              "    .colab-df-container {\n",
              "      display:flex;\n",
              "      flex-wrap:wrap;\n",
              "      gap: 12px;\n",
              "    }\n",
              "\n",
              "    .colab-df-convert {\n",
              "      background-color: #E8F0FE;\n",
              "      border: none;\n",
              "      border-radius: 50%;\n",
              "      cursor: pointer;\n",
              "      display: none;\n",
              "      fill: #1967D2;\n",
              "      height: 32px;\n",
              "      padding: 0 0 0 0;\n",
              "      width: 32px;\n",
              "    }\n",
              "\n",
              "    .colab-df-convert:hover {\n",
              "      background-color: #E2EBFA;\n",
              "      box-shadow: 0px 1px 2px rgba(60, 64, 67, 0.3), 0px 1px 3px 1px rgba(60, 64, 67, 0.15);\n",
              "      fill: #174EA6;\n",
              "    }\n",
              "\n",
              "    [theme=dark] .colab-df-convert {\n",
              "      background-color: #3B4455;\n",
              "      fill: #D2E3FC;\n",
              "    }\n",
              "\n",
              "    [theme=dark] .colab-df-convert:hover {\n",
              "      background-color: #434B5C;\n",
              "      box-shadow: 0px 1px 3px 1px rgba(0, 0, 0, 0.15);\n",
              "      filter: drop-shadow(0px 1px 2px rgba(0, 0, 0, 0.3));\n",
              "      fill: #FFFFFF;\n",
              "    }\n",
              "  </style>\n",
              "\n",
              "      <script>\n",
              "        const buttonEl =\n",
              "          document.querySelector('#df-d093e846-c8e2-4fe6-8972-99a95e0f8de0 button.colab-df-convert');\n",
              "        buttonEl.style.display =\n",
              "          google.colab.kernel.accessAllowed ? 'block' : 'none';\n",
              "\n",
              "        async function convertToInteractive(key) {\n",
              "          const element = document.querySelector('#df-d093e846-c8e2-4fe6-8972-99a95e0f8de0');\n",
              "          const dataTable =\n",
              "            await google.colab.kernel.invokeFunction('convertToInteractive',\n",
              "                                                     [key], {});\n",
              "          if (!dataTable) return;\n",
              "\n",
              "          const docLinkHtml = 'Like what you see? Visit the ' +\n",
              "            '<a target=\"_blank\" href=https://colab.research.google.com/notebooks/data_table.ipynb>data table notebook</a>'\n",
              "            + ' to learn more about interactive tables.';\n",
              "          element.innerHTML = '';\n",
              "          dataTable['output_type'] = 'display_data';\n",
              "          await google.colab.output.renderOutput(dataTable, element);\n",
              "          const docLink = document.createElement('div');\n",
              "          docLink.innerHTML = docLinkHtml;\n",
              "          element.appendChild(docLink);\n",
              "        }\n",
              "      </script>\n",
              "    </div>\n",
              "  </div>\n",
              "  "
            ]
          },
          "metadata": {},
          "execution_count": 8
        }
      ]
    },
    {
      "cell_type": "code",
      "source": [
        "df['Browser'].hist(\n",
        "    figsize=(15, 5),\n",
        "    bins=df['Browser'].nunique(),\n",
        ")"
      ],
      "metadata": {
        "colab": {
          "base_uri": "https://localhost:8080/",
          "height": 105
        },
        "id": "yjJN80KkY4PP",
        "outputId": "6458efcc-d3d2-4ec5-ed40-f6cc49aa6397"
      },
      "execution_count": null,
      "outputs": [
        {
          "output_type": "execute_result",
          "data": {
            "text/plain": [
              "<matplotlib.axes._subplots.AxesSubplot at 0x7f47d5f6be50>"
            ]
          },
          "metadata": {},
          "execution_count": 9
        },
        {
          "output_type": "display_data",
          "data": {
            "text/plain": [
              "<Figure size 1080x360 with 1 Axes>"
            ],
            "image/png": "[encoded data removed]"
          },
          "metadata": {
            "needs_background": "light"
          }
        }
      ]
    },
    {
      "cell_type": "code",
      "source": [
        "df['OperatingSystems'].hist(\n",
        "    bins=df['OperatingSystems'].nunique()\n",
        ")"
      ],
      "metadata": {
        "colab": {
          "base_uri": "https://localhost:8080/",
          "height": 105
        },
        "id": "olRbZ8rpaBmz",
        "outputId": "af230fb2-cb28-492c-ddef-fcfb0772f1dc"
      },
      "execution_count": null,
      "outputs": [
        {
          "output_type": "execute_result",
          "data": {
            "text/plain": [
              "<matplotlib.axes._subplots.AxesSubplot at 0x7f47d5e70700>"
            ]
          },
          "metadata": {},
          "execution_count": 10
        },
        {
          "output_type": "display_data",
          "data": {
            "text/plain": [
              "<Figure size 432x288 with 1 Axes>"
            ],
            "image/png": "[encoded data removed]"
          },
          "metadata": {
            "needs_background": "light"
          }
        }
      ]
    },
    {
      "cell_type": "code",
      "source": [
        "sns.displot(df, x='ProductRelated', hue='Revenue')"
      ],
      "metadata": {
        "colab": {
          "base_uri": "https://localhost:8080/",
          "height": 105
        },
        "id": "zGG51U8Aar55",
        "outputId": "587da0f8-5a9f-4c8b-aa06-e6113e8f995c"
      },
      "execution_count": null,
      "outputs": [
        {
          "output_type": "execute_result",
          "data": {
            "text/plain": [
              "<seaborn.axisgrid.FacetGrid at 0x7f47dd82b250>"
            ]
          },
          "metadata": {},
          "execution_count": 11
        },
        {
          "output_type": "display_data",
          "data": {
            "text/plain": [
              "<Figure size 421.25x360 with 1 Axes>"
            ],
            "image/png": "[encoded data removed]"
          },
          "metadata": {
            "needs_background": "light"
          }
        }
      ]
    },
    {
      "cell_type": "code",
      "source": [
        "sns.displot(df[df['Revenue'] == True], x='ProductRelated')"
      ],
      "metadata": {
        "colab": {
          "base_uri": "https://localhost:8080/",
          "height": 105
        },
        "id": "GOY1KrSlbc1F",
        "outputId": "926bae3d-ef12-4939-c780-62f1930e5a3e"
      },
      "execution_count": null,
      "outputs": [
        {
          "output_type": "execute_result",
          "data": {
            "text/plain": [
              "<seaborn.axisgrid.FacetGrid at 0x7f47d30bd940>"
            ]
          },
          "metadata": {},
          "execution_count": 12
        },
        {
          "output_type": "display_data",
          "data": {
            "text/plain": [
              "<Figure size 360x360 with 1 Axes>"
            ],
            "image/png": "[encoded data removed]"
          },
          "metadata": {
            "needs_background": "light"
          }
        }
      ]
    },
    {
      "cell_type": "code",
      "source": [
        "sns.displot(df, x='SpecialDay', hue='Revenue')"
      ],
      "metadata": {
        "colab": {
          "base_uri": "https://localhost:8080/",
          "height": 105
        },
        "id": "W-shRQ3jcIio",
        "outputId": "5b50384e-34fc-4f61-e8d3-e344313ecfd3"
      },
      "execution_count": null,
      "outputs": [
        {
          "output_type": "execute_result",
          "data": {
            "text/plain": [
              "<seaborn.axisgrid.FacetGrid at 0x7f47d59ad0a0>"
            ]
          },
          "metadata": {},
          "execution_count": 13
        },
        {
          "output_type": "display_data",
          "data": {
            "text/plain": [
              "<Figure size 421.25x360 with 1 Axes>"
            ],
            "image/png": "[encoded data removed]"
          },
          "metadata": {
            "needs_background": "light"
          }
        }
      ]
    },
    {
      "cell_type": "code",
      "source": [
        "sns.displot(df, x='Month', hue='Revenue')"
      ],
      "metadata": {
        "colab": {
          "base_uri": "https://localhost:8080/",
          "height": 105
        },
        "id": "7K2C_Lf7cgoh",
        "outputId": "5cd93405-911a-49c1-e4bd-7dff18375812"
      },
      "execution_count": null,
      "outputs": [
        {
          "output_type": "execute_result",
          "data": {
            "text/plain": [
              "<seaborn.axisgrid.FacetGrid at 0x7f47d2b3a250>"
            ]
          },
          "metadata": {},
          "execution_count": 14
        },
        {
          "output_type": "display_data",
          "data": {
            "text/plain": [
              "<Figure size 421.25x360 with 1 Axes>"
            ],
            "image/png": "[encoded data removed]"
          },
          "metadata": {
            "needs_background": "light"
          }
        }
      ]
    },
    {
      "cell_type": "code",
      "source": [
        "sns.heatmap(df.corr(), vmin=-1, vmax=1, cmap='coolwarm')"
      ],
      "metadata": {
        "colab": {
          "base_uri": "https://localhost:8080/",
          "height": 105
        },
        "id": "QWB7vGHfYK0a",
        "outputId": "93c9a083-8f17-4886-aefa-f633ad8135bf"
      },
      "execution_count": null,
      "outputs": [
        {
          "output_type": "execute_result",
          "data": {
            "text/plain": [
              "<matplotlib.axes._subplots.AxesSubplot at 0x7f47d296ab50>"
            ]
          },
          "metadata": {},
          "execution_count": 15
        },
        {
          "output_type": "display_data",
          "data": {
            "text/plain": [
              "<Figure size 432x288 with 2 Axes>"
            ],
            "image/png": "[encoded data removed]"
          },
          "metadata": {
            "needs_background": "light"
          }
        }
      ]
    },
    {
      "cell_type": "markdown",
      "source": [
        "# 3. Nan values processing"
      ],
      "metadata": {
        "id": "RWwlQ31wdRZu"
      }
    },
    {
      "cell_type": "code",
      "source": [
        "df.isnull().sum()"
      ],
      "metadata": {
        "colab": {
          "base_uri": "https://localhost:8080/"
        },
        "id": "kbuboSjJc8AQ",
        "outputId": "a29bd47b-afd0-47f9-c1db-e0dc3bdfe51f"
      },
      "execution_count": null,
      "outputs": [
        {
          "output_type": "execute_result",
          "data": {
            "text/plain": [
              "Administrative             0\n",
              "Administrative_Duration    0\n",
              "Informational              0\n",
              "Informational_Duration     0\n",
              "ProductRelated             0\n",
              "ProductRelated_Duration    0\n",
              "BounceRates                0\n",
              "ExitRates                  0\n",
              "PageValues                 0\n",
              "SpecialDay                 0\n",
              "Month                      0\n",
              "OperatingSystems           7\n",
              "Browser                    0\n",
              "Region                     0\n",
              "TrafficType                0\n",
              "VisitorType                0\n",
              "Weekend                    0\n",
              "Revenue                    0\n",
              "dtype: int64"
            ]
          },
          "metadata": {},
          "execution_count": 16
        }
      ]
    },
    {
      "cell_type": "code",
      "source": [
        "df.dropna(inplace=True)"
      ],
      "metadata": {
        "id": "o7W-W5FzdDzI"
      },
      "execution_count": null,
      "outputs": []
    },
    {
      "cell_type": "markdown",
      "source": [
        "# 4. Categorial attribute processing"
      ],
      "metadata": {
        "id": "OmBjprDxdU1a"
      }
    },
    {
      "cell_type": "code",
      "source": [
        "s = (df.dtypes == 'object')\n",
        "ohe_cols = list(s[s].index)\n",
        "ohe_cols"
      ],
      "metadata": {
        "colab": {
          "base_uri": "https://localhost:8080/"
        },
        "id": "K9vrKkZSdPge",
        "outputId": "c3c9719d-6c61-49c0-ffea-7dffa9aed70f"
      },
      "execution_count": null,
      "outputs": [
        {
          "output_type": "execute_result",
          "data": {
            "text/plain": [
              "['Month', 'OperatingSystems', 'Browser', 'Region', 'VisitorType']"
            ]
          },
          "metadata": {},
          "execution_count": 18
        }
      ]
    },
    {
      "cell_type": "code",
      "source": [
        "ohe_df = pd.get_dummies(df[ohe_cols])\n",
        "df = df.drop(ohe_cols, axis=1)\n",
        "df = pd.concat([df, ohe_df], axis=1)\n",
        "df"
      ],
      "metadata": {
        "colab": {
          "base_uri": "https://localhost:8080/",
          "height": 500
        },
        "id": "Fn09kv1ZeBR0",
        "outputId": "53e1013d-dc89-4b90-e1b0-06d9438b4397"
      },
      "execution_count": null,
      "outputs": [
        {
          "output_type": "execute_result",
          "data": {
            "text/plain": [
              "       Administrative  Administrative_Duration  Informational  \\\n",
              "0                   0                      0.0              0   \n",
              "1                   0                      0.0              0   \n",
              "2                   0                      0.0              0   \n",
              "3                   0                      0.0              0   \n",
              "4                   0                      0.0              0   \n",
              "...               ...                      ...            ...   \n",
              "12325               3                    145.0              0   \n",
              "12326               0                      0.0              0   \n",
              "12327               0                      0.0              0   \n",
              "12328               4                     75.0              0   \n",
              "12329               0                      0.0              0   \n",
              "\n",
              "       Informational_Duration  ProductRelated  ProductRelated_Duration  \\\n",
              "0                         0.0               1                 0.000000   \n",
              "1                         0.0               2                64.000000   \n",
              "2                         0.0               1                 0.000000   \n",
              "3                         0.0               2                 2.666667   \n",
              "4                         0.0              10               627.500000   \n",
              "...                       ...             ...                      ...   \n",
              "12325                     0.0              53              1783.791667   \n",
              "12326                     0.0               5               465.750000   \n",
              "12327                     0.0               6               184.250000   \n",
              "12328                     0.0              15               346.000000   \n",
              "12329                     0.0               3                21.250000   \n",
              "\n",
              "       BounceRates  ExitRates  PageValues  SpecialDay  ...  Region_London  \\\n",
              "0         0.200000   0.200000    0.000000         0.0  ...              1   \n",
              "1         0.000000   0.100000    0.000000         0.0  ...              1   \n",
              "2         0.200000   0.200000    0.000000         0.0  ...              0   \n",
              "3         0.050000   0.140000    0.000000         0.0  ...              0   \n",
              "4         0.020000   0.050000    0.000000         0.0  ...              1   \n",
              "...            ...        ...         ...         ...  ...            ...   \n",
              "12325     0.007143   0.029031   12.241717         0.0  ...              1   \n",
              "12326     0.000000   0.021333    0.000000         0.0  ...              1   \n",
              "12327     0.083333   0.086667    0.000000         0.0  ...              1   \n",
              "12328     0.000000   0.021053    0.000000         0.0  ...              0   \n",
              "12329     0.000000   0.066667    0.000000         0.0  ...              1   \n",
              "\n",
              "       Region_North East  Region_North West  Region_South East  \\\n",
              "0                      0                  0                  0   \n",
              "1                      0                  0                  0   \n",
              "2                      0                  0                  0   \n",
              "3                      0                  0                  0   \n",
              "4                      0                  0                  0   \n",
              "...                  ...                ...                ...   \n",
              "12325                  0                  0                  0   \n",
              "12326                  0                  0                  0   \n",
              "12327                  0                  0                  0   \n",
              "12328                  0                  0                  1   \n",
              "12329                  0                  0                  0   \n",
              "\n",
              "       Region_South West  Region_West Midlands  \\\n",
              "0                      0                     0   \n",
              "1                      0                     0   \n",
              "2                      0                     0   \n",
              "3                      1                     0   \n",
              "4                      0                     0   \n",
              "...                  ...                   ...   \n",
              "12325                  0                     0   \n",
              "12326                  0                     0   \n",
              "12327                  0                     0   \n",
              "12328                  0                     0   \n",
              "12329                  0                     0   \n",
              "\n",
              "       Region_Yorkshire and the Humber  VisitorType_New_Visitor  \\\n",
              "0                                    0                        0   \n",
              "1                                    0                        0   \n",
              "2                                    0                        0   \n",
              "3                                    0                        0   \n",
              "4                                    0                        0   \n",
              "...                                ...                      ...   \n",
              "12325                                0                        0   \n",
              "12326                                0                        0   \n",
              "12327                                0                        0   \n",
              "12328                                0                        0   \n",
              "12329                                0                        1   \n",
              "\n",
              "       VisitorType_Other  VisitorType_Returning_Visitor  \n",
              "0                      0                              1  \n",
              "1                      0                              1  \n",
              "2                      0                              1  \n",
              "3                      0                              1  \n",
              "4                      0                              1  \n",
              "...                  ...                            ...  \n",
              "12325                  0                              1  \n",
              "12326                  0                              1  \n",
              "12327                  0                              1  \n",
              "12328                  0                              1  \n",
              "12329                  0                              0  \n",
              "\n",
              "[12323 rows x 55 columns]"
            ],
            "text/html": [
              "\n",
              "  <div id=\"df-95b338fc-57da-44b6-9c2a-66e3371daaf0\">\n",
              "    <div class=\"colab-df-container\">\n",
              "      <div>\n",
              "<style scoped>\n",
              "    .dataframe tbody tr th:only-of-type {\n",
              "        vertical-align: middle;\n",
              "    }\n",
              "\n",
              "    .dataframe tbody tr th {\n",
              "        vertical-align: top;\n",
              "    }\n",
              "\n",
              "    .dataframe thead th {\n",
              "        text-align: right;\n",
              "    }\n",
              "</style>\n",
              "<table border=\"1\" class=\"dataframe\">\n",
              "  <thead>\n",
              "    <tr style=\"text-align: right;\">\n",
              "      <th></th>\n",
              "      <th>Administrative</th>\n",
              "      <th>Administrative_Duration</th>\n",
              "      <th>Informational</th>\n",
              "      <th>Informational_Duration</th>\n",
              "      <th>ProductRelated</th>\n",
              "      <th>ProductRelated_Duration</th>\n",
              "      <th>BounceRates</th>\n",
              "      <th>ExitRates</th>\n",
              "      <th>PageValues</th>\n",
              "      <th>SpecialDay</th>\n",
              "      <th>...</th>\n",
              "      <th>Region_London</th>\n",
              "      <th>Region_North East</th>\n",
              "      <th>Region_North West</th>\n",
              "      <th>Region_South East</th>\n",
              "      <th>Region_South West</th>\n",
              "      <th>Region_West Midlands</th>\n",
              "      <th>Region_Yorkshire and the Humber</th>\n",
              "      <th>VisitorType_New_Visitor</th>\n",
              "      <th>VisitorType_Other</th>\n",
              "      <th>VisitorType_Returning_Visitor</th>\n",
              "    </tr>\n",
              "  </thead>\n",
              "  <tbody>\n",
              "    <tr>\n",
              "      <th>0</th>\n",
              "      <td>0</td>\n",
              "      <td>0.0</td>\n",
              "      <td>0</td>\n",
              "      <td>0.0</td>\n",
              "      <td>1</td>\n",
              "      <td>0.000000</td>\n",
              "      <td>0.200000</td>\n",
              "      <td>0.200000</td>\n",
              "      <td>0.000000</td>\n",
              "      <td>0.0</td>\n",
              "      <td>...</td>\n",
              "      <td>1</td>\n",
              "      <td>0</td>\n",
              "      <td>0</td>\n",
              "      <td>0</td>\n",
              "      <td>0</td>\n",
              "      <td>0</td>\n",
              "      <td>0</td>\n",
              "      <td>0</td>\n",
              "      <td>0</td>\n",
              "      <td>1</td>\n",
              "    </tr>\n",
              "    <tr>\n",
              "      <th>1</th>\n",
              "      <td>0</td>\n",
              "      <td>0.0</td>\n",
              "      <td>0</td>\n",
              "      <td>0.0</td>\n",
              "      <td>2</td>\n",
              "      <td>64.000000</td>\n",
              "      <td>0.000000</td>\n",
              "      <td>0.100000</td>\n",
              "      <td>0.000000</td>\n",
              "      <td>0.0</td>\n",
              "      <td>...</td>\n",
              "      <td>1</td>\n",
              "      <td>0</td>\n",
              "      <td>0</td>\n",
              "      <td>0</td>\n",
              "      <td>0</td>\n",
              "      <td>0</td>\n",
              "      <td>0</td>\n",
              "      <td>0</td>\n",
              "      <td>0</td>\n",
              "      <td>1</td>\n",
              "    </tr>\n",
              "    <tr>\n",
              "      <th>2</th>\n",
              "      <td>0</td>\n",
              "      <td>0.0</td>\n",
              "      <td>0</td>\n",
              "      <td>0.0</td>\n",
              "      <td>1</td>\n",
              "      <td>0.000000</td>\n",
              "      <td>0.200000</td>\n",
              "      <td>0.200000</td>\n",
              "      <td>0.000000</td>\n",
              "      <td>0.0</td>\n",
              "      <td>...</td>\n",
              "      <td>0</td>\n",
              "      <td>0</td>\n",
              "      <td>0</td>\n",
              "      <td>0</td>\n",
              "      <td>0</td>\n",
              "      <td>0</td>\n",
              "      <td>0</td>\n",
              "      <td>0</td>\n",
              "      <td>0</td>\n",
              "      <td>1</td>\n",
              "    </tr>\n",
              "    <tr>\n",
              "      <th>3</th>\n",
              "      <td>0</td>\n",
              "      <td>0.0</td>\n",
              "      <td>0</td>\n",
              "      <td>0.0</td>\n",
              "      <td>2</td>\n",
              "      <td>2.666667</td>\n",
              "      <td>0.050000</td>\n",
              "      <td>0.140000</td>\n",
              "      <td>0.000000</td>\n",
              "      <td>0.0</td>\n",
              "      <td>...</td>\n",
              "      <td>0</td>\n",
              "      <td>0</td>\n",
              "      <td>0</td>\n",
              "      <td>0</td>\n",
              "      <td>1</td>\n",
              "      <td>0</td>\n",
              "      <td>0</td>\n",
              "      <td>0</td>\n",
              "      <td>0</td>\n",
              "      <td>1</td>\n",
              "    </tr>\n",
              "    <tr>\n",
              "      <th>4</th>\n",
              "      <td>0</td>\n",
              "      <td>0.0</td>\n",
              "      <td>0</td>\n",
              "      <td>0.0</td>\n",
              "      <td>10</td>\n",
              "      <td>627.500000</td>\n",
              "      <td>0.020000</td>\n",
              "      <td>0.050000</td>\n",
              "      <td>0.000000</td>\n",
              "      <td>0.0</td>\n",
              "      <td>...</td>\n",
              "      <td>1</td>\n",
              "      <td>0</td>\n",
              "      <td>0</td>\n",
              "      <td>0</td>\n",
              "      <td>0</td>\n",
              "      <td>0</td>\n",
              "      <td>0</td>\n",
              "      <td>0</td>\n",
              "      <td>0</td>\n",
              "      <td>1</td>\n",
              "    </tr>\n",
              "    <tr>\n",
              "      <th>...</th>\n",
              "      <td>...</td>\n",
              "      <td>...</td>\n",
              "      <td>...</td>\n",
              "      <td>...</td>\n",
              "      <td>...</td>\n",
              "      <td>...</td>\n",
              "      <td>...</td>\n",
              "      <td>...</td>\n",
              "      <td>...</td>\n",
              "      <td>...</td>\n",
              "      <td>...</td>\n",
              "      <td>...</td>\n",
              "      <td>...</td>\n",
              "      <td>...</td>\n",
              "      <td>...</td>\n",
              "      <td>...</td>\n",
              "      <td>...</td>\n",
              "      <td>...</td>\n",
              "      <td>...</td>\n",
              "      <td>...</td>\n",
              "      <td>...</td>\n",
              "    </tr>\n",
              "    <tr>\n",
              "      <th>12325</th>\n",
              "      <td>3</td>\n",
              "      <td>145.0</td>\n",
              "      <td>0</td>\n",
              "      <td>0.0</td>\n",
              "      <td>53</td>\n",
              "      <td>1783.791667</td>\n",
              "      <td>0.007143</td>\n",
              "      <td>0.029031</td>\n",
              "      <td>12.241717</td>\n",
              "      <td>0.0</td>\n",
              "      <td>...</td>\n",
              "      <td>1</td>\n",
              "      <td>0</td>\n",
              "      <td>0</td>\n",
              "      <td>0</td>\n",
              "      <td>0</td>\n",
              "      <td>0</td>\n",
              "      <td>0</td>\n",
              "      <td>0</td>\n",
              "      <td>0</td>\n",
              "      <td>1</td>\n",
              "    </tr>\n",
              "    <tr>\n",
              "      <th>12326</th>\n",
              "      <td>0</td>\n",
              "      <td>0.0</td>\n",
              "      <td>0</td>\n",
              "      <td>0.0</td>\n",
              "      <td>5</td>\n",
              "      <td>465.750000</td>\n",
              "      <td>0.000000</td>\n",
              "      <td>0.021333</td>\n",
              "      <td>0.000000</td>\n",
              "      <td>0.0</td>\n",
              "      <td>...</td>\n",
              "      <td>1</td>\n",
              "      <td>0</td>\n",
              "      <td>0</td>\n",
              "      <td>0</td>\n",
              "      <td>0</td>\n",
              "      <td>0</td>\n",
              "      <td>0</td>\n",
              "      <td>0</td>\n",
              "      <td>0</td>\n",
              "      <td>1</td>\n",
              "    </tr>\n",
              "    <tr>\n",
              "      <th>12327</th>\n",
              "      <td>0</td>\n",
              "      <td>0.0</td>\n",
              "      <td>0</td>\n",
              "      <td>0.0</td>\n",
              "      <td>6</td>\n",
              "      <td>184.250000</td>\n",
              "      <td>0.083333</td>\n",
              "      <td>0.086667</td>\n",
              "      <td>0.000000</td>\n",
              "      <td>0.0</td>\n",
              "      <td>...</td>\n",
              "      <td>1</td>\n",
              "      <td>0</td>\n",
              "      <td>0</td>\n",
              "      <td>0</td>\n",
              "      <td>0</td>\n",
              "      <td>0</td>\n",
              "      <td>0</td>\n",
              "      <td>0</td>\n",
              "      <td>0</td>\n",
              "      <td>1</td>\n",
              "    </tr>\n",
              "    <tr>\n",
              "      <th>12328</th>\n",
              "      <td>4</td>\n",
              "      <td>75.0</td>\n",
              "      <td>0</td>\n",
              "      <td>0.0</td>\n",
              "      <td>15</td>\n",
              "      <td>346.000000</td>\n",
              "      <td>0.000000</td>\n",
              "      <td>0.021053</td>\n",
              "      <td>0.000000</td>\n",
              "      <td>0.0</td>\n",
              "      <td>...</td>\n",
              "      <td>0</td>\n",
              "      <td>0</td>\n",
              "      <td>0</td>\n",
              "      <td>1</td>\n",
              "      <td>0</td>\n",
              "      <td>0</td>\n",
              "      <td>0</td>\n",
              "      <td>0</td>\n",
              "      <td>0</td>\n",
              "      <td>1</td>\n",
              "    </tr>\n",
              "    <tr>\n",
              "      <th>12329</th>\n",
              "      <td>0</td>\n",
              "      <td>0.0</td>\n",
              "      <td>0</td>\n",
              "      <td>0.0</td>\n",
              "      <td>3</td>\n",
              "      <td>21.250000</td>\n",
              "      <td>0.000000</td>\n",
              "      <td>0.066667</td>\n",
              "      <td>0.000000</td>\n",
              "      <td>0.0</td>\n",
              "      <td>...</td>\n",
              "      <td>1</td>\n",
              "      <td>0</td>\n",
              "      <td>0</td>\n",
              "      <td>0</td>\n",
              "      <td>0</td>\n",
              "      <td>0</td>\n",
              "      <td>0</td>\n",
              "      <td>1</td>\n",
              "      <td>0</td>\n",
              "      <td>0</td>\n",
              "    </tr>\n",
              "  </tbody>\n",
              "</table>\n",
              "<p>12323 rows × 55 columns</p>\n",
              "</div>\n",
              "      <button class=\"colab-df-convert\" onclick=\"convertToInteractive('df-95b338fc-57da-44b6-9c2a-66e3371daaf0')\"\n",
              "              title=\"Convert this dataframe to an interactive table.\"\n",
              "              style=\"display:none;\">\n",
              "        \n",
              "  <svg xmlns=\"http://www.w3.org/2000/svg\" height=\"24px\"viewBox=\"0 0 24 24\"\n",
              "       width=\"24px\">\n",
              "    <path d=\"M0 0h24v24H0V0z\" fill=\"none\"/>\n",
              "    <path d=\"M18.56 5.44l.94 2.06.94-2.06 2.06-.94-2.06-.94-.94-2.06-.94 2.06-2.06.94zm-11 1L8.5 8.5l.94-2.06 2.06-.94-2.06-.94L8.5 2.5l-.94 2.06-2.06.94zm10 10l.94 2.06.94-2.06 2.06-.94-2.06-.94-.94-2.06-.94 2.06-2.06.94z\"/><path d=\"M17.41 7.96l-1.37-1.37c-.4-.4-.92-.59-1.43-.59-.52 0-1.04.2-1.43.59L10.3 9.45l-7.72 7.72c-.78.78-.78 2.05 0 2.83L4 21.41c.39.39.9.59 1.41.59.51 0 1.02-.2 1.41-.59l7.78-7.78 2.81-2.81c.8-.78.8-2.07 0-2.86zM5.41 20L4 18.59l7.72-7.72 1.47 1.35L5.41 20z\"/>\n",
              "  </svg>\n",
              "      </button>\n",
              "      \n",
              "  <style>\n",
              "    .colab-df-container {\n",
              "      display:flex;\n",
              "      flex-wrap:wrap;\n",
              "      gap: 12px;\n",
              "    }\n",
              "\n",
              "    .colab-df-convert {\n",
              "      background-color: #E8F0FE;\n",
              "      border: none;\n",
              "      border-radius: 50%;\n",
              "      cursor: pointer;\n",
              "      display: none;\n",
              "      fill: #1967D2;\n",
              "      height: 32px;\n",
              "      padding: 0 0 0 0;\n",
              "      width: 32px;\n",
              "    }\n",
              "\n",
              "    .colab-df-convert:hover {\n",
              "      background-color: #E2EBFA;\n",
              "      box-shadow: 0px 1px 2px rgba(60, 64, 67, 0.3), 0px 1px 3px 1px rgba(60, 64, 67, 0.15);\n",
              "      fill: #174EA6;\n",
              "    }\n",
              "\n",
              "    [theme=dark] .colab-df-convert {\n",
              "      background-color: #3B4455;\n",
              "      fill: #D2E3FC;\n",
              "    }\n",
              "\n",
              "    [theme=dark] .colab-df-convert:hover {\n",
              "      background-color: #434B5C;\n",
              "      box-shadow: 0px 1px 3px 1px rgba(0, 0, 0, 0.15);\n",
              "      filter: drop-shadow(0px 1px 2px rgba(0, 0, 0, 0.3));\n",
              "      fill: #FFFFFF;\n",
              "    }\n",
              "  </style>\n",
              "\n",
              "      <script>\n",
              "        const buttonEl =\n",
              "          document.querySelector('#df-95b338fc-57da-44b6-9c2a-66e3371daaf0 button.colab-df-convert');\n",
              "        buttonEl.style.display =\n",
              "          google.colab.kernel.accessAllowed ? 'block' : 'none';\n",
              "\n",
              "        async function convertToInteractive(key) {\n",
              "          const element = document.querySelector('#df-95b338fc-57da-44b6-9c2a-66e3371daaf0');\n",
              "          const dataTable =\n",
              "            await google.colab.kernel.invokeFunction('convertToInteractive',\n",
              "                                                     [key], {});\n",
              "          if (!dataTable) return;\n",
              "\n",
              "          const docLinkHtml = 'Like what you see? Visit the ' +\n",
              "            '<a target=\"_blank\" href=https://colab.research.google.com/notebooks/data_table.ipynb>data table notebook</a>'\n",
              "            + ' to learn more about interactive tables.';\n",
              "          element.innerHTML = '';\n",
              "          dataTable['output_type'] = 'display_data';\n",
              "          await google.colab.output.renderOutput(dataTable, element);\n",
              "          const docLink = document.createElement('div');\n",
              "          docLink.innerHTML = docLinkHtml;\n",
              "          element.appendChild(docLink);\n",
              "        }\n",
              "      </script>\n",
              "    </div>\n",
              "  </div>\n",
              "  "
            ]
          },
          "metadata": {},
          "execution_count": 19
        }
      ]
    },
    {
      "cell_type": "code",
      "source": [
        "df.shape"
      ],
      "metadata": {
        "colab": {
          "base_uri": "https://localhost:8080/"
        },
        "id": "L5hO_JeaeZm0",
        "outputId": "ce6c6f62-a412-4433-b292-d1aa27036b8f"
      },
      "execution_count": null,
      "outputs": [
        {
          "output_type": "execute_result",
          "data": {
            "text/plain": [
              "(12323, 55)"
            ]
          },
          "metadata": {},
          "execution_count": 20
        }
      ]
    },
    {
      "cell_type": "code",
      "source": [
        "s = (df.dtypes == 'bool')\n",
        "boolean_cols = list(s[s].index)\n",
        "\n",
        "for col in boolean_cols:\n",
        "    df[col] = df[col].astype(int)"
      ],
      "metadata": {
        "id": "34j8AGrCTMvu"
      },
      "execution_count": null,
      "outputs": []
    },
    {
      "cell_type": "markdown",
      "source": [
        "# 5. Data standardization"
      ],
      "metadata": {
        "id": "vCKO1BTPfA6r"
      }
    },
    {
      "cell_type": "code",
      "source": [
        "df_std = (df - df.mean(axis=0)) / df.std(axis=0)\n",
        "df_std.describe()"
      ],
      "metadata": {
        "colab": {
          "base_uri": "https://localhost:8080/",
          "height": 492
        },
        "id": "NwSsKuUge1ep",
        "outputId": "7683b987-17e2-4d2d-f304-33d2197a993b"
      },
      "execution_count": null,
      "outputs": [
        {
          "output_type": "execute_result",
          "data": {
            "text/plain": [
              "       Administrative  Administrative_Duration  Informational  \\\n",
              "count    1.232300e+04             1.232300e+04   1.232300e+04   \n",
              "mean     3.920872e-17             3.344273e-17   2.767674e-17   \n",
              "std      1.000000e+00             1.000000e+00   1.000000e+00   \n",
              "min     -6.971590e-01            -4.570578e-01  -3.963961e-01   \n",
              "25%     -6.971590e-01            -4.570578e-01  -3.963961e-01   \n",
              "50%     -3.959392e-01            -4.146206e-01  -3.963961e-01   \n",
              "75%      5.077203e-01             6.981966e-02  -3.963961e-01   \n",
              "max      7.435776e+00             1.877410e+01   1.849723e+01   \n",
              "\n",
              "       Informational_Duration  ProductRelated  ProductRelated_Duration  \\\n",
              "count            1.232300e+04    1.232300e+04             1.232300e+04   \n",
              "mean             1.153198e-17   -4.612791e-17             1.107070e-16   \n",
              "std              1.000000e+00    1.000000e+00             1.000000e+00   \n",
              "min             -2.449391e-01   -7.134917e-01            -6.243280e-01   \n",
              "25%             -2.449391e-01   -5.561276e-01            -5.280983e-01   \n",
              "50%             -2.449391e-01   -3.088412e-01            -3.113039e-01   \n",
              "75%             -2.449391e-01    1.407704e-01             1.407618e-01   \n",
              "max              1.786315e+01    1.513532e+01             3.280123e+01   \n",
              "\n",
              "        BounceRates     ExitRates    PageValues    SpecialDay  ...  \\\n",
              "count  1.232300e+04  1.232300e+04  1.232300e+04  1.232300e+04  ...   \n",
              "mean  -1.153198e-17  9.686860e-17 -7.380465e-17  9.225581e-17  ...   \n",
              "std    1.000000e+00  1.000000e+00  1.000000e+00  1.000000e+00  ...   \n",
              "min   -4.575910e-01 -8.862337e-01 -3.172641e-01 -3.086220e-01  ...   \n",
              "25%   -4.575910e-01 -5.922068e-01 -3.172641e-01 -3.086220e-01  ...   \n",
              "50%   -3.934101e-01 -3.687796e-01 -3.172641e-01 -3.086220e-01  ...   \n",
              "75%   -1.119554e-01  1.428604e-01 -3.172641e-01 -3.086220e-01  ...   \n",
              "max    3.668325e+00  3.230143e+00  1.916049e+01  4.720668e+00  ...   \n",
              "\n",
              "       Region_London  Region_North East  Region_North West  Region_South East  \\\n",
              "count   1.232300e+04       1.232300e+04       1.232300e+04       1.232300e+04   \n",
              "mean   -9.456221e-17       9.225581e-18       6.457907e-17       5.650669e-17   \n",
              "std     1.000000e+00       1.000000e+00       1.000000e+00       1.000000e+00   \n",
              "min    -7.956125e-01      -1.627477e-01      -2.565419e-01      -4.920295e-01   \n",
              "25%    -7.956125e-01      -1.627477e-01      -2.565419e-01      -4.920295e-01   \n",
              "50%    -7.956125e-01      -1.627477e-01      -2.565419e-01      -4.920295e-01   \n",
              "75%     1.256791e+00      -1.627477e-01      -2.565419e-01      -4.920295e-01   \n",
              "max     1.256791e+00       6.143982e+00       3.897683e+00       2.032233e+00   \n",
              "\n",
              "       Region_South West  Region_West Midlands  \\\n",
              "count       1.232300e+04          1.232300e+04   \n",
              "mean        1.014814e-16          2.998314e-17   \n",
              "std         1.000000e+00          1.000000e+00   \n",
              "min        -3.184961e-01         -2.640061e-01   \n",
              "25%        -3.184961e-01         -2.640061e-01   \n",
              "50%        -3.184961e-01         -2.640061e-01   \n",
              "75%        -3.184961e-01         -2.640061e-01   \n",
              "max         3.139501e+00          3.787484e+00   \n",
              "\n",
              "       Region_Yorkshire and the Humber  VisitorType_New_Visitor  \\\n",
              "count                     1.232300e+04             1.232300e+04   \n",
              "mean                      4.266831e-17            -8.533663e-17   \n",
              "std                       1.000000e+00             1.000000e+00   \n",
              "min                      -1.910533e-01            -3.990655e-01   \n",
              "25%                      -1.910533e-01            -3.990655e-01   \n",
              "50%                      -1.910533e-01            -3.990655e-01   \n",
              "75%                      -1.910533e-01            -3.990655e-01   \n",
              "max                       5.233716e+00             2.505651e+00   \n",
              "\n",
              "       VisitorType_Other  VisitorType_Returning_Visitor  \n",
              "count       1.232300e+04                   1.232300e+04  \n",
              "mean        9.225581e-18                  -1.383837e-17  \n",
              "std         1.000000e+00                   1.000000e+00  \n",
              "min        -8.333676e-02                  -2.435229e+00  \n",
              "25%        -8.333676e-02                   4.106057e-01  \n",
              "50%        -8.333676e-02                   4.106057e-01  \n",
              "75%        -8.333676e-02                   4.106057e-01  \n",
              "max         1.199853e+01                   4.106057e-01  \n",
              "\n",
              "[8 rows x 55 columns]"
            ],
            "text/html": [
              "\n",
              "  <div id=\"df-bb7bf49f-517b-4a3b-9687-f9897e6bcdfc\">\n",
              "    <div class=\"colab-df-container\">\n",
              "      <div>\n",
              "<style scoped>\n",
              "    .dataframe tbody tr th:only-of-type {\n",
              "        vertical-align: middle;\n",
              "    }\n",
              "\n",
              "    .dataframe tbody tr th {\n",
              "        vertical-align: top;\n",
              "    }\n",
              "\n",
              "    .dataframe thead th {\n",
              "        text-align: right;\n",
              "    }\n",
              "</style>\n",
              "<table border=\"1\" class=\"dataframe\">\n",
              "  <thead>\n",
              "    <tr style=\"text-align: right;\">\n",
              "      <th></th>\n",
              "      <th>Administrative</th>\n",
              "      <th>Administrative_Duration</th>\n",
              "      <th>Informational</th>\n",
              "      <th>Informational_Duration</th>\n",
              "      <th>ProductRelated</th>\n",
              "      <th>ProductRelated_Duration</th>\n",
              "      <th>BounceRates</th>\n",
              "      <th>ExitRates</th>\n",
              "      <th>PageValues</th>\n",
              "      <th>SpecialDay</th>\n",
              "      <th>...</th>\n",
              "      <th>Region_London</th>\n",
              "      <th>Region_North East</th>\n",
              "      <th>Region_North West</th>\n",
              "      <th>Region_South East</th>\n",
              "      <th>Region_South West</th>\n",
              "      <th>Region_West Midlands</th>\n",
              "      <th>Region_Yorkshire and the Humber</th>\n",
              "      <th>VisitorType_New_Visitor</th>\n",
              "      <th>VisitorType_Other</th>\n",
              "      <th>VisitorType_Returning_Visitor</th>\n",
              "    </tr>\n",
              "  </thead>\n",
              "  <tbody>\n",
              "    <tr>\n",
              "      <th>count</th>\n",
              "      <td>1.232300e+04</td>\n",
              "      <td>1.232300e+04</td>\n",
              "      <td>1.232300e+04</td>\n",
              "      <td>1.232300e+04</td>\n",
              "      <td>1.232300e+04</td>\n",
              "      <td>1.232300e+04</td>\n",
              "      <td>1.232300e+04</td>\n",
              "      <td>1.232300e+04</td>\n",
              "      <td>1.232300e+04</td>\n",
              "      <td>1.232300e+04</td>\n",
              "      <td>...</td>\n",
              "      <td>1.232300e+04</td>\n",
              "      <td>1.232300e+04</td>\n",
              "      <td>1.232300e+04</td>\n",
              "      <td>1.232300e+04</td>\n",
              "      <td>1.232300e+04</td>\n",
              "      <td>1.232300e+04</td>\n",
              "      <td>1.232300e+04</td>\n",
              "      <td>1.232300e+04</td>\n",
              "      <td>1.232300e+04</td>\n",
              "      <td>1.232300e+04</td>\n",
              "    </tr>\n",
              "    <tr>\n",
              "      <th>mean</th>\n",
              "      <td>3.920872e-17</td>\n",
              "      <td>3.344273e-17</td>\n",
              "      <td>2.767674e-17</td>\n",
              "      <td>1.153198e-17</td>\n",
              "      <td>-4.612791e-17</td>\n",
              "      <td>1.107070e-16</td>\n",
              "      <td>-1.153198e-17</td>\n",
              "      <td>9.686860e-17</td>\n",
              "      <td>-7.380465e-17</td>\n",
              "      <td>9.225581e-17</td>\n",
              "      <td>...</td>\n",
              "      <td>-9.456221e-17</td>\n",
              "      <td>9.225581e-18</td>\n",
              "      <td>6.457907e-17</td>\n",
              "      <td>5.650669e-17</td>\n",
              "      <td>1.014814e-16</td>\n",
              "      <td>2.998314e-17</td>\n",
              "      <td>4.266831e-17</td>\n",
              "      <td>-8.533663e-17</td>\n",
              "      <td>9.225581e-18</td>\n",
              "      <td>-1.383837e-17</td>\n",
              "    </tr>\n",
              "    <tr>\n",
              "      <th>std</th>\n",
              "      <td>1.000000e+00</td>\n",
              "      <td>1.000000e+00</td>\n",
              "      <td>1.000000e+00</td>\n",
              "      <td>1.000000e+00</td>\n",
              "      <td>1.000000e+00</td>\n",
              "      <td>1.000000e+00</td>\n",
              "      <td>1.000000e+00</td>\n",
              "      <td>1.000000e+00</td>\n",
              "      <td>1.000000e+00</td>\n",
              "      <td>1.000000e+00</td>\n",
              "      <td>...</td>\n",
              "      <td>1.000000e+00</td>\n",
              "      <td>1.000000e+00</td>\n",
              "      <td>1.000000e+00</td>\n",
              "      <td>1.000000e+00</td>\n",
              "      <td>1.000000e+00</td>\n",
              "      <td>1.000000e+00</td>\n",
              "      <td>1.000000e+00</td>\n",
              "      <td>1.000000e+00</td>\n",
              "      <td>1.000000e+00</td>\n",
              "      <td>1.000000e+00</td>\n",
              "    </tr>\n",
              "    <tr>\n",
              "      <th>min</th>\n",
              "      <td>-6.971590e-01</td>\n",
              "      <td>-4.570578e-01</td>\n",
              "      <td>-3.963961e-01</td>\n",
              "      <td>-2.449391e-01</td>\n",
              "      <td>-7.134917e-01</td>\n",
              "      <td>-6.243280e-01</td>\n",
              "      <td>-4.575910e-01</td>\n",
              "      <td>-8.862337e-01</td>\n",
              "      <td>-3.172641e-01</td>\n",
              "      <td>-3.086220e-01</td>\n",
              "      <td>...</td>\n",
              "      <td>-7.956125e-01</td>\n",
              "      <td>-1.627477e-01</td>\n",
              "      <td>-2.565419e-01</td>\n",
              "      <td>-4.920295e-01</td>\n",
              "      <td>-3.184961e-01</td>\n",
              "      <td>-2.640061e-01</td>\n",
              "      <td>-1.910533e-01</td>\n",
              "      <td>-3.990655e-01</td>\n",
              "      <td>-8.333676e-02</td>\n",
              "      <td>-2.435229e+00</td>\n",
              "    </tr>\n",
              "    <tr>\n",
              "      <th>25%</th>\n",
              "      <td>-6.971590e-01</td>\n",
              "      <td>-4.570578e-01</td>\n",
              "      <td>-3.963961e-01</td>\n",
              "      <td>-2.449391e-01</td>\n",
              "      <td>-5.561276e-01</td>\n",
              "      <td>-5.280983e-01</td>\n",
              "      <td>-4.575910e-01</td>\n",
              "      <td>-5.922068e-01</td>\n",
              "      <td>-3.172641e-01</td>\n",
              "      <td>-3.086220e-01</td>\n",
              "      <td>...</td>\n",
              "      <td>-7.956125e-01</td>\n",
              "      <td>-1.627477e-01</td>\n",
              "      <td>-2.565419e-01</td>\n",
              "      <td>-4.920295e-01</td>\n",
              "      <td>-3.184961e-01</td>\n",
              "      <td>-2.640061e-01</td>\n",
              "      <td>-1.910533e-01</td>\n",
              "      <td>-3.990655e-01</td>\n",
              "      <td>-8.333676e-02</td>\n",
              "      <td>4.106057e-01</td>\n",
              "    </tr>\n",
              "    <tr>\n",
              "      <th>50%</th>\n",
              "      <td>-3.959392e-01</td>\n",
              "      <td>-4.146206e-01</td>\n",
              "      <td>-3.963961e-01</td>\n",
              "      <td>-2.449391e-01</td>\n",
              "      <td>-3.088412e-01</td>\n",
              "      <td>-3.113039e-01</td>\n",
              "      <td>-3.934101e-01</td>\n",
              "      <td>-3.687796e-01</td>\n",
              "      <td>-3.172641e-01</td>\n",
              "      <td>-3.086220e-01</td>\n",
              "      <td>...</td>\n",
              "      <td>-7.956125e-01</td>\n",
              "      <td>-1.627477e-01</td>\n",
              "      <td>-2.565419e-01</td>\n",
              "      <td>-4.920295e-01</td>\n",
              "      <td>-3.184961e-01</td>\n",
              "      <td>-2.640061e-01</td>\n",
              "      <td>-1.910533e-01</td>\n",
              "      <td>-3.990655e-01</td>\n",
              "      <td>-8.333676e-02</td>\n",
              "      <td>4.106057e-01</td>\n",
              "    </tr>\n",
              "    <tr>\n",
              "      <th>75%</th>\n",
              "      <td>5.077203e-01</td>\n",
              "      <td>6.981966e-02</td>\n",
              "      <td>-3.963961e-01</td>\n",
              "      <td>-2.449391e-01</td>\n",
              "      <td>1.407704e-01</td>\n",
              "      <td>1.407618e-01</td>\n",
              "      <td>-1.119554e-01</td>\n",
              "      <td>1.428604e-01</td>\n",
              "      <td>-3.172641e-01</td>\n",
              "      <td>-3.086220e-01</td>\n",
              "      <td>...</td>\n",
              "      <td>1.256791e+00</td>\n",
              "      <td>-1.627477e-01</td>\n",
              "      <td>-2.565419e-01</td>\n",
              "      <td>-4.920295e-01</td>\n",
              "      <td>-3.184961e-01</td>\n",
              "      <td>-2.640061e-01</td>\n",
              "      <td>-1.910533e-01</td>\n",
              "      <td>-3.990655e-01</td>\n",
              "      <td>-8.333676e-02</td>\n",
              "      <td>4.106057e-01</td>\n",
              "    </tr>\n",
              "    <tr>\n",
              "      <th>max</th>\n",
              "      <td>7.435776e+00</td>\n",
              "      <td>1.877410e+01</td>\n",
              "      <td>1.849723e+01</td>\n",
              "      <td>1.786315e+01</td>\n",
              "      <td>1.513532e+01</td>\n",
              "      <td>3.280123e+01</td>\n",
              "      <td>3.668325e+00</td>\n",
              "      <td>3.230143e+00</td>\n",
              "      <td>1.916049e+01</td>\n",
              "      <td>4.720668e+00</td>\n",
              "      <td>...</td>\n",
              "      <td>1.256791e+00</td>\n",
              "      <td>6.143982e+00</td>\n",
              "      <td>3.897683e+00</td>\n",
              "      <td>2.032233e+00</td>\n",
              "      <td>3.139501e+00</td>\n",
              "      <td>3.787484e+00</td>\n",
              "      <td>5.233716e+00</td>\n",
              "      <td>2.505651e+00</td>\n",
              "      <td>1.199853e+01</td>\n",
              "      <td>4.106057e-01</td>\n",
              "    </tr>\n",
              "  </tbody>\n",
              "</table>\n",
              "<p>8 rows × 55 columns</p>\n",
              "</div>\n",
              "      <button class=\"colab-df-convert\" onclick=\"convertToInteractive('df-bb7bf49f-517b-4a3b-9687-f9897e6bcdfc')\"\n",
              "              title=\"Convert this dataframe to an interactive table.\"\n",
              "              style=\"display:none;\">\n",
              "        \n",
              "  <svg xmlns=\"http://www.w3.org/2000/svg\" height=\"24px\"viewBox=\"0 0 24 24\"\n",
              "       width=\"24px\">\n",
              "    <path d=\"M0 0h24v24H0V0z\" fill=\"none\"/>\n",
              "    <path d=\"M18.56 5.44l.94 2.06.94-2.06 2.06-.94-2.06-.94-.94-2.06-.94 2.06-2.06.94zm-11 1L8.5 8.5l.94-2.06 2.06-.94-2.06-.94L8.5 2.5l-.94 2.06-2.06.94zm10 10l.94 2.06.94-2.06 2.06-.94-2.06-.94-.94-2.06-.94 2.06-2.06.94z\"/><path d=\"M17.41 7.96l-1.37-1.37c-.4-.4-.92-.59-1.43-.59-.52 0-1.04.2-1.43.59L10.3 9.45l-7.72 7.72c-.78.78-.78 2.05 0 2.83L4 21.41c.39.39.9.59 1.41.59.51 0 1.02-.2 1.41-.59l7.78-7.78 2.81-2.81c.8-.78.8-2.07 0-2.86zM5.41 20L4 18.59l7.72-7.72 1.47 1.35L5.41 20z\"/>\n",
              "  </svg>\n",
              "      </button>\n",
              "      \n",
              "  <style>\n",
              "    .colab-df-container {\n",
              "      display:flex;\n",
              "      flex-wrap:wrap;\n",
              "      gap: 12px;\n",
              "    }\n",
              "\n",
              "    .colab-df-convert {\n",
              "      background-color: #E8F0FE;\n",
              "      border: none;\n",
              "      border-radius: 50%;\n",
              "      cursor: pointer;\n",
              "      display: none;\n",
              "      fill: #1967D2;\n",
              "      height: 32px;\n",
              "      padding: 0 0 0 0;\n",
              "      width: 32px;\n",
              "    }\n",
              "\n",
              "    .colab-df-convert:hover {\n",
              "      background-color: #E2EBFA;\n",
              "      box-shadow: 0px 1px 2px rgba(60, 64, 67, 0.3), 0px 1px 3px 1px rgba(60, 64, 67, 0.15);\n",
              "      fill: #174EA6;\n",
              "    }\n",
              "\n",
              "    [theme=dark] .colab-df-convert {\n",
              "      background-color: #3B4455;\n",
              "      fill: #D2E3FC;\n",
              "    }\n",
              "\n",
              "    [theme=dark] .colab-df-convert:hover {\n",
              "      background-color: #434B5C;\n",
              "      box-shadow: 0px 1px 3px 1px rgba(0, 0, 0, 0.15);\n",
              "      filter: drop-shadow(0px 1px 2px rgba(0, 0, 0, 0.3));\n",
              "      fill: #FFFFFF;\n",
              "    }\n",
              "  </style>\n",
              "\n",
              "      <script>\n",
              "        const buttonEl =\n",
              "          document.querySelector('#df-bb7bf49f-517b-4a3b-9687-f9897e6bcdfc button.colab-df-convert');\n",
              "        buttonEl.style.display =\n",
              "          google.colab.kernel.accessAllowed ? 'block' : 'none';\n",
              "\n",
              "        async function convertToInteractive(key) {\n",
              "          const element = document.querySelector('#df-bb7bf49f-517b-4a3b-9687-f9897e6bcdfc');\n",
              "          const dataTable =\n",
              "            await google.colab.kernel.invokeFunction('convertToInteractive',\n",
              "                                                     [key], {});\n",
              "          if (!dataTable) return;\n",
              "\n",
              "          const docLinkHtml = 'Like what you see? Visit the ' +\n",
              "            '<a target=\"_blank\" href=https://colab.research.google.com/notebooks/data_table.ipynb>data table notebook</a>'\n",
              "            + ' to learn more about interactive tables.';\n",
              "          element.innerHTML = '';\n",
              "          dataTable['output_type'] = 'display_data';\n",
              "          await google.colab.output.renderOutput(dataTable, element);\n",
              "          const docLink = document.createElement('div');\n",
              "          docLink.innerHTML = docLinkHtml;\n",
              "          element.appendChild(docLink);\n",
              "        }\n",
              "      </script>\n",
              "    </div>\n",
              "  </div>\n",
              "  "
            ]
          },
          "metadata": {},
          "execution_count": 22
        }
      ]
    },
    {
      "cell_type": "markdown",
      "source": [
        "# 6. Sampling"
      ],
      "metadata": {
        "id": "pio1trHQfTx-"
      }
    },
    {
      "cell_type": "code",
      "source": [
        "from sklearn.model_selection import train_test_split\n",
        "\n",
        "X = df_std.drop('Revenue', axis=1)\n",
        "y = df['Revenue']\n",
        "\n",
        "X_train, X_test, y_train, y_test = train_test_split(X, y, test_size=0.3, random_state=88)"
      ],
      "metadata": {
        "id": "bJuFQAY4fPu-"
      },
      "execution_count": null,
      "outputs": []
    },
    {
      "cell_type": "markdown",
      "source": [
        "# 7. KNeighborsClassifier"
      ],
      "metadata": {
        "id": "zGgY8hougFl4"
      }
    },
    {
      "cell_type": "code",
      "source": [
        "from sklearn.neighbors import KNeighborsClassifier\n",
        "from sklearn.metrics import classification_report, confusion_matrix\n",
        "\n",
        "kn_model = KNeighborsClassifier(n_neighbors=3)\n",
        "kn_model.fit(X_train, y_train)\n",
        "y_test_prediction = kn_model.predict(X_test)"
      ],
      "metadata": {
        "id": "NQbpGFC6gEtU"
      },
      "execution_count": null,
      "outputs": []
    },
    {
      "cell_type": "code",
      "source": [
        " def print_model_scores(model, X_train, y_train, X_test, y_test, y_test_prediction):\n",
        "    print('Train accuracy:', round(model.score(X_train, y_train), 2))\n",
        "    print()\n",
        "    print('Test scores:')\n",
        "    print(classification_report(y_test, y_test_prediction))\n",
        "    print()\n",
        "    print('Confusion matrix:\\n')\n",
        "    sns.heatmap(confusion_matrix(y_test, y_test_prediction), annot=True, cbar=False, fmt='1', cmap='Reds')\n",
        "    plt.show()"
      ],
      "metadata": {
        "id": "lHJYzNgwkwEv"
      },
      "execution_count": null,
      "outputs": []
    },
    {
      "cell_type": "code",
      "source": [
        "print_model_scores(\n",
        "    kn_model, \n",
        "    X_train, \n",
        "    y_train, \n",
        "    X_test, \n",
        "    y_test, \n",
        "    y_test_prediction\n",
        ")"
      ],
      "metadata": {
        "colab": {
          "base_uri": "https://localhost:8080/",
          "height": 520
        },
        "id": "eemwidS1lMhy",
        "outputId": "5862a43c-8cff-4345-9e65-9dfdd5838ed5"
      },
      "execution_count": null,
      "outputs": [
        {
          "output_type": "stream",
          "name": "stdout",
          "text": [
            "Train accuracy: 0.9\n",
            "\n",
            "Test scores:\n",
            "              precision    recall  f1-score   support\n",
            "\n",
            "           0       0.88      0.96      0.92      3112\n",
            "           1       0.56      0.28      0.37       585\n",
            "\n",
            "    accuracy                           0.85      3697\n",
            "   macro avg       0.72      0.62      0.65      3697\n",
            "weighted avg       0.83      0.85      0.83      3697\n",
            "\n",
            "\n",
            "Confusion matrix:\n",
            "\n"
          ]
        },
        {
          "output_type": "display_data",
          "data": {
            "text/plain": [
              "<Figure size 432x288 with 1 Axes>"
            ],
            "image/png": "[encoded data removed]"
          },
          "metadata": {
            "needs_background": "light"
          }
        }
      ]
    },
    {
      "cell_type": "code",
      "source": [
        "kn_model = KNeighborsClassifier(n_neighbors=20)\n",
        "kn_model.fit(X_train, y_train)"
      ],
      "metadata": {
        "colab": {
          "base_uri": "https://localhost:8080/"
        },
        "id": "dmP8Jof_Y4TP",
        "outputId": "3fbe4c9c-30e6-4925-848d-1ddfd58609cb"
      },
      "execution_count": null,
      "outputs": [
        {
          "output_type": "execute_result",
          "data": {
            "text/plain": [
              "KNeighborsClassifier(n_neighbors=20)"
            ]
          },
          "metadata": {},
          "execution_count": 27
        }
      ]
    },
    {
      "cell_type": "code",
      "source": [
        "print_model_scores(\n",
        "    kn_model, \n",
        "    X_train, \n",
        "    y_train, \n",
        "    X_test, \n",
        "    y_test, \n",
        "    y_test_prediction\n",
        ")"
      ],
      "metadata": {
        "colab": {
          "base_uri": "https://localhost:8080/",
          "height": 520
        },
        "id": "FaYE44sKmg1E",
        "outputId": "5b8cb8cb-115f-4a46-87c3-f9b19a4d11ff"
      },
      "execution_count": null,
      "outputs": [
        {
          "output_type": "stream",
          "name": "stdout",
          "text": [
            "Train accuracy: 0.86\n",
            "\n",
            "Test scores:\n",
            "              precision    recall  f1-score   support\n",
            "\n",
            "           0       0.88      0.96      0.92      3112\n",
            "           1       0.56      0.28      0.37       585\n",
            "\n",
            "    accuracy                           0.85      3697\n",
            "   macro avg       0.72      0.62      0.65      3697\n",
            "weighted avg       0.83      0.85      0.83      3697\n",
            "\n",
            "\n",
            "Confusion matrix:\n",
            "\n"
          ]
        },
        {
          "output_type": "display_data",
          "data": {
            "text/plain": [
              "<Figure size 432x288 with 1 Axes>"
            ],
            "image/png": "[encoded data removed]"
          },
          "metadata": {
            "needs_background": "light"
          }
        }
      ]
    },
    {
      "cell_type": "markdown",
      "source": [
        "# 8. Over-sampling"
      ],
      "metadata": {
        "id": "PAJpCNjiZemd"
      }
    },
    {
      "cell_type": "code",
      "source": [
        "! pip install -U imbalanced-learn"
      ],
      "metadata": {
        "colab": {
          "base_uri": "https://localhost:8080/"
        },
        "id": "7FD3HDtVac6j",
        "outputId": "14f2a191-1edf-4dbc-cddc-10f4cd75a257"
      },
      "execution_count": null,
      "outputs": [
        {
          "output_type": "stream",
          "name": "stdout",
          "text": [
            "Looking in indexes: https://pypi.org/simple, https://us-python.pkg.dev/colab-wheels/public/simple/\n",
            "Requirement already satisfied: imbalanced-learn in /usr/local/lib/python3.8/dist-packages (0.8.1)\n",
            "Collecting imbalanced-learn\n",
            "  Downloading imbalanced_learn-0.10.0-py3-none-any.whl (225 kB)\n",
            "\u001b[K     |████████████████████████████████| 225 kB 5.3 MB/s \n",
            "\u001b[?25hRequirement already satisfied: numpy>=1.17.3 in /usr/local/lib/python3.8/dist-packages (from imbalanced-learn) (1.21.6)\n",
            "Requirement already satisfied: scikit-learn>=1.0.2 in /usr/local/lib/python3.8/dist-packages (from imbalanced-learn) (1.0.2)\n",
            "Requirement already satisfied: scipy>=1.3.2 in /usr/local/lib/python3.8/dist-packages (from imbalanced-learn) (1.7.3)\n",
            "Requirement already satisfied: threadpoolctl>=2.0.0 in /usr/local/lib/python3.8/dist-packages (from imbalanced-learn) (3.1.0)\n",
            "Requirement already satisfied: joblib>=1.1.1 in /usr/local/lib/python3.8/dist-packages (from imbalanced-learn) (1.2.0)\n",
            "Installing collected packages: imbalanced-learn\n",
            "  Attempting uninstall: imbalanced-learn\n",
            "    Found existing installation: imbalanced-learn 0.8.1\n",
            "    Uninstalling imbalanced-learn-0.8.1:\n",
            "      Successfully uninstalled imbalanced-learn-0.8.1\n",
            "Successfully installed imbalanced-learn-0.10.0\n"
          ]
        }
      ]
    },
    {
      "cell_type": "markdown",
      "source": [
        "## 8.1. Random over-sampling"
      ],
      "metadata": {
        "id": "s4zopnF2Ckus"
      }
    },
    {
      "cell_type": "code",
      "source": [
        "from imblearn.over_sampling import RandomOverSampler\n",
        "\n",
        "X_ROS_train, y_ROS_train = RandomOverSampler(random_state=0).fit_resample(X_train, y_train)\n",
        "y_ROS_train.value_counts()"
      ],
      "metadata": {
        "colab": {
          "base_uri": "https://localhost:8080/"
        },
        "id": "CfEleLYtCxWH",
        "outputId": "e9be545b-37d2-4191-aec1-dbb51d45b0fd"
      },
      "execution_count": null,
      "outputs": [
        {
          "output_type": "execute_result",
          "data": {
            "text/plain": [
              "0    7304\n",
              "1    7304\n",
              "Name: Revenue, dtype: int64"
            ]
          },
          "metadata": {},
          "execution_count": 30
        }
      ]
    },
    {
      "cell_type": "code",
      "source": [
        "kn_model_2 = KNeighborsClassifier(n_neighbors=3)\n",
        "kn_model_2.fit(X_ROS_train, y_ROS_train)\n",
        "\n",
        "y_test_prediction = kn_model_2.predict(X_test)\n",
        "\n",
        "print_model_scores(\n",
        "    kn_model_2, \n",
        "    X_ROS_train, \n",
        "    y_ROS_train, \n",
        "    X_test, \n",
        "    y_test, \n",
        "    y_test_prediction\n",
        ")"
      ],
      "metadata": {
        "colab": {
          "base_uri": "https://localhost:8080/",
          "height": 309
        },
        "id": "22P9evCbDV6s",
        "outputId": "6a549ba2-448b-4be3-abac-a293ec0e544d"
      },
      "execution_count": null,
      "outputs": [
        {
          "output_type": "stream",
          "name": "stdout",
          "text": [
            "Train accuracy: 0.95\n",
            "\n",
            "Test scores:\n",
            "              precision    recall  f1-score   support\n",
            "\n",
            "           0       0.90      0.84      0.87      3112\n",
            "           1       0.37      0.51      0.43       585\n",
            "\n",
            "    accuracy                           0.78      3697\n",
            "   macro avg       0.63      0.67      0.65      3697\n",
            "weighted avg       0.82      0.78      0.80      3697\n",
            "\n",
            "\n",
            "Confusion matrix:\n",
            "\n"
          ]
        },
        {
          "output_type": "display_data",
          "data": {
            "text/plain": [
              "<Figure size 432x288 with 1 Axes>"
            ],
            "image/png": "[encoded data removed]"
          },
          "metadata": {
            "needs_background": "light"
          }
        }
      ]
    },
    {
      "cell_type": "markdown",
      "source": [
        "## 8.2. SMOTE"
      ],
      "metadata": {
        "id": "t4rlX3R7hroe"
      }
    },
    {
      "cell_type": "code",
      "source": [
        "from imblearn.over_sampling import SMOTE\n",
        "\n",
        "X_SMOTE_train, y_SMOTE_train = SMOTE().fit_resample(X_train, y_train)\n",
        "y_SMOTE_train.value_counts()"
      ],
      "metadata": {
        "colab": {
          "base_uri": "https://localhost:8080/"
        },
        "id": "8l8w6mHNZgEO",
        "outputId": "7d5346d4-7755-4b01-c791-2231c12943cd"
      },
      "execution_count": null,
      "outputs": [
        {
          "output_type": "execute_result",
          "data": {
            "text/plain": [
              "0    7304\n",
              "1    7304\n",
              "Name: Revenue, dtype: int64"
            ]
          },
          "metadata": {},
          "execution_count": 32
        }
      ]
    },
    {
      "cell_type": "code",
      "source": [
        "kn_model_2 = KNeighborsClassifier(n_neighbors=3)\n",
        "kn_model_2.fit(X_SMOTE_train, y_SMOTE_train)\n",
        "\n",
        "y_test_prediction = kn_model_2.predict(X_test)\n",
        "\n",
        "print_model_scores(\n",
        "    kn_model_2, \n",
        "    X_SMOTE_train, \n",
        "    y_SMOTE_train, \n",
        "    X_test, \n",
        "    y_test, \n",
        "    y_test_prediction\n",
        ")"
      ],
      "metadata": {
        "colab": {
          "base_uri": "https://localhost:8080/",
          "height": 309
        },
        "id": "xM8pk6XZd0KP",
        "outputId": "de98124c-eadf-4283-edfa-2c675497fbfc"
      },
      "execution_count": null,
      "outputs": [
        {
          "output_type": "stream",
          "name": "stdout",
          "text": [
            "Train accuracy: 0.95\n",
            "\n",
            "Test scores:\n",
            "              precision    recall  f1-score   support\n",
            "\n",
            "           0       0.90      0.82      0.86      3112\n",
            "           1       0.36      0.54      0.43       585\n",
            "\n",
            "    accuracy                           0.77      3697\n",
            "   macro avg       0.63      0.68      0.64      3697\n",
            "weighted avg       0.82      0.77      0.79      3697\n",
            "\n",
            "\n",
            "Confusion matrix:\n",
            "\n"
          ]
        },
        {
          "output_type": "display_data",
          "data": {
            "text/plain": [
              "<Figure size 432x288 with 1 Axes>"
            ],
            "image/png": "[encoded data removed]"
          },
          "metadata": {
            "needs_background": "light"
          }
        }
      ]
    },
    {
      "cell_type": "markdown",
      "source": [
        "## 8.3. ADASYN"
      ],
      "metadata": {
        "id": "tG5zYYgWhyiH"
      }
    },
    {
      "cell_type": "code",
      "source": [
        "from imblearn.over_sampling import ADASYN\n",
        "\n",
        "X_ADASYN_train, y_ADASYN_train = ADASYN().fit_resample(X_train, y_train)\n",
        "y_ADASYN_train.value_counts()"
      ],
      "metadata": {
        "colab": {
          "base_uri": "https://localhost:8080/"
        },
        "id": "PkGVc6Tih9oa",
        "outputId": "e3da525c-721a-4578-a6fc-3ecf79140d6d"
      },
      "execution_count": null,
      "outputs": [
        {
          "output_type": "execute_result",
          "data": {
            "text/plain": [
              "0    7304\n",
              "1    7163\n",
              "Name: Revenue, dtype: int64"
            ]
          },
          "metadata": {},
          "execution_count": 34
        }
      ]
    },
    {
      "cell_type": "code",
      "source": [
        "kn_model_2 = KNeighborsClassifier(n_neighbors=3)\n",
        "kn_model_2.fit(X_ADASYN_train, y_ADASYN_train)\n",
        "\n",
        "y_test_prediction = kn_model_2.predict(X_test)\n",
        "\n",
        "print_model_scores(\n",
        "    kn_model, \n",
        "    X_ADASYN_train, \n",
        "    y_ADASYN_train, \n",
        "    X_test, y_test, \n",
        "    y_test_prediction\n",
        ")"
      ],
      "metadata": {
        "colab": {
          "base_uri": "https://localhost:8080/",
          "height": 309
        },
        "id": "PWQXI0KShHjp",
        "outputId": "9508eff0-2eae-41f4-9539-2a590bf159f9"
      },
      "execution_count": null,
      "outputs": [
        {
          "output_type": "stream",
          "name": "stdout",
          "text": [
            "Train accuracy: 0.54\n",
            "\n",
            "Test scores:\n",
            "              precision    recall  f1-score   support\n",
            "\n",
            "           0       0.91      0.81      0.86      3112\n",
            "           1       0.36      0.55      0.43       585\n",
            "\n",
            "    accuracy                           0.77      3697\n",
            "   macro avg       0.63      0.68      0.64      3697\n",
            "weighted avg       0.82      0.77      0.79      3697\n",
            "\n",
            "\n",
            "Confusion matrix:\n",
            "\n"
          ]
        },
        {
          "output_type": "display_data",
          "data": {
            "text/plain": [
              "<Figure size 432x288 with 1 Axes>"
            ],
            "image/png": "[encoded data removed]"
          },
          "metadata": {
            "needs_background": "light"
          }
        }
      ]
    },
    {
      "cell_type": "markdown",
      "source": [
        "# 9. XGBoost"
      ],
      "metadata": {
        "id": "geBAm3HS7OoL"
      }
    },
    {
      "cell_type": "code",
      "source": [
        "from xgboost import XGBClassifier\n",
        "\n",
        "xgb_model = XGBClassifier(random_state=0)\n",
        "xgb_model.fit(X_SMOTE_train, y_SMOTE_train)\n",
        "\n",
        "y_test_prediction = xgb_model.predict(X_test)\n",
        "\n",
        "print_model_scores(\n",
        "    xgb_model, \n",
        "    X_SMOTE_train, \n",
        "    y_SMOTE_train, \n",
        "    X_test, y_test, \n",
        "    y_test_prediction\n",
        ")"
      ],
      "metadata": {
        "colab": {
          "base_uri": "https://localhost:8080/",
          "height": 520
        },
        "id": "CGPLpxnaEGjy",
        "outputId": "0129b086-391f-4a52-d8e8-cc7fdd011a1e"
      },
      "execution_count": null,
      "outputs": [
        {
          "output_type": "stream",
          "name": "stdout",
          "text": [
            "Train accuracy: 0.93\n",
            "\n",
            "Test scores:\n",
            "              precision    recall  f1-score   support\n",
            "\n",
            "           0       0.95      0.92      0.93      3112\n",
            "           1       0.63      0.73      0.68       585\n",
            "\n",
            "    accuracy                           0.89      3697\n",
            "   macro avg       0.79      0.82      0.81      3697\n",
            "weighted avg       0.90      0.89      0.89      3697\n",
            "\n",
            "\n",
            "Confusion matrix:\n",
            "\n"
          ]
        },
        {
          "output_type": "display_data",
          "data": {
            "text/plain": [
              "<Figure size 432x288 with 1 Axes>"
            ],
            "image/png": "[encoded data removed]"
          },
          "metadata": {
            "needs_background": "light"
          }
        }
      ]
    },
    {
      "cell_type": "markdown",
      "source": [
        "# 10. CatBoost"
      ],
      "metadata": {
        "id": "T2Uh6jQgj2_D"
      }
    },
    {
      "cell_type": "code",
      "source": [
        "! pip install catboost"
      ],
      "metadata": {
        "colab": {
          "base_uri": "https://localhost:8080/"
        },
        "id": "52kImd2Cj6To",
        "outputId": "6e3f8ffa-a02a-4ead-b3ed-1197a8774be4"
      },
      "execution_count": null,
      "outputs": [
        {
          "output_type": "stream",
          "name": "stdout",
          "text": [
            "Looking in indexes: https://pypi.org/simple, https://us-python.pkg.dev/colab-wheels/public/simple/\n",
            "Requirement already satisfied: catboost in /usr/local/lib/python3.7/dist-packages (1.1)\n",
            "Requirement already satisfied: pandas>=0.24.0 in /usr/local/lib/python3.7/dist-packages (from catboost) (1.3.5)\n",
            "Requirement already satisfied: numpy>=1.16.0 in /usr/local/lib/python3.7/dist-packages (from catboost) (1.21.6)\n",
            "Requirement already satisfied: matplotlib in /usr/local/lib/python3.7/dist-packages (from catboost) (3.2.2)\n",
            "Requirement already satisfied: graphviz in /usr/local/lib/python3.7/dist-packages (from catboost) (0.10.1)\n",
            "Requirement already satisfied: scipy in /usr/local/lib/python3.7/dist-packages (from catboost) (1.7.3)\n",
            "Requirement already satisfied: six in /usr/local/lib/python3.7/dist-packages (from catboost) (1.15.0)\n",
            "Requirement already satisfied: plotly in /usr/local/lib/python3.7/dist-packages (from catboost) (5.5.0)\n",
            "Requirement already satisfied: pytz>=2017.3 in /usr/local/lib/python3.7/dist-packages (from pandas>=0.24.0->catboost) (2022.4)\n",
            "Requirement already satisfied: python-dateutil>=2.7.3 in /usr/local/lib/python3.7/dist-packages (from pandas>=0.24.0->catboost) (2.8.2)\n",
            "Requirement already satisfied: kiwisolver>=1.0.1 in /usr/local/lib/python3.7/dist-packages (from matplotlib->catboost) (1.4.4)\n",
            "Requirement already satisfied: cycler>=0.10 in /usr/local/lib/python3.7/dist-packages (from matplotlib->catboost) (0.11.0)\n",
            "Requirement already satisfied: pyparsing!=2.0.4,!=2.1.2,!=2.1.6,>=2.0.1 in /usr/local/lib/python3.7/dist-packages (from matplotlib->catboost) (3.0.9)\n",
            "Requirement already satisfied: typing-extensions in /usr/local/lib/python3.7/dist-packages (from kiwisolver>=1.0.1->matplotlib->catboost) (4.1.1)\n",
            "Requirement already satisfied: tenacity>=6.2.0 in /usr/local/lib/python3.7/dist-packages (from plotly->catboost) (8.1.0)\n"
          ]
        }
      ]
    },
    {
      "cell_type": "code",
      "source": [
        "from catboost import CatBoostClassifier\n",
        "\n",
        "cat_model = CatBoostClassifier(\n",
        "    random_state=0,\n",
        "    learning_rate=0.01,\n",
        ")\n",
        "cat_model.fit(\n",
        "    X_SMOTE_train, \n",
        "    y_SMOTE_train,\n",
        "    verbose=False,\n",
        ")\n",
        "\n",
        "y_test_prediction = cat_model.predict(X_test)\n",
        "\n",
        "print_model_scores(\n",
        "    cat_model, \n",
        "    X_SMOTE_train,\n",
        "    y_SMOTE_train,\n",
        "    X_test, y_test,\n",
        "    y_test_prediction\n",
        ")"
      ],
      "metadata": {
        "colab": {
          "base_uri": "https://localhost:8080/",
          "height": 520
        },
        "id": "azL1tgZpEYYv",
        "outputId": "d6efa640-b656-43c3-ed8d-8b8d3dde545e"
      },
      "execution_count": null,
      "outputs": [
        {
          "output_type": "stream",
          "name": "stdout",
          "text": [
            "Train accuracy: 0.95\n",
            "\n",
            "Test scores:\n",
            "              precision    recall  f1-score   support\n",
            "\n",
            "           0       0.95      0.93      0.94      3112\n",
            "           1       0.67      0.72      0.69       585\n",
            "\n",
            "    accuracy                           0.90      3697\n",
            "   macro avg       0.81      0.82      0.82      3697\n",
            "weighted avg       0.90      0.90      0.90      3697\n",
            "\n",
            "\n",
            "Confusion matrix:\n",
            "\n"
          ]
        },
        {
          "output_type": "display_data",
          "data": {
            "text/plain": [
              "<Figure size 432x288 with 1 Axes>"
            ],
            "image/png": "[encoded data removed]"
          },
          "metadata": {
            "needs_background": "light"
          }
        }
      ]
    },
    {
      "cell_type": "code",
      "source": [
        "# grid = {'learning_rate': [0.03, 0.1],\n",
        "#         'depth': [4, 6, 10],\n",
        "#         'l2_leaf_reg': [1, 3, 5, 7, 9],\n",
        "# }\n",
        "\n",
        "# cat_model_2 = CatBoostClassifier(random_state=0)\n",
        "# cat_model_2.grid_search(\n",
        "#     grid,\n",
        "#     X=X_SMOTE_train,\n",
        "#     y=y_SMOTE_train,\n",
        "#     verbose=False,\n",
        "# )"
      ],
      "metadata": {
        "id": "zw1duURe02hz"
      },
      "execution_count": null,
      "outputs": []
    },
    {
      "cell_type": "markdown",
      "source": [
        "# Conclusions"
      ],
      "metadata": {
        "id": "VwG4D6XgBRLz"
      }
    },
    {
      "cell_type": "markdown",
      "source": [
        "Для решения задачи сначала были предобработаны имеющиеся данные. Так как объектов с пропущенными значениями было очень мало, то они были просто удалены. Категориальные переменные были обработаны с помощью подхода One Hot Encoding. Также данные были стандартизованы. Тренировочные и тестовые выборки были созданы с помощью функции train_test_split из библиотеки sklearn в соотношении 70:30. Первым был применен наиболее простой метод машинного обучения для задачи классификации - Метод ближайших соседей. На тренировочной выборки показатель accuracy был 0.9, а на тестовой 0.85, это является хорошим результатом, но после изучения других показателей и матрицы расогласований, стало ясно, что из-за несбалансированности классов разработанная модель просто отдает предпочтение нулевому классу. Было принято решение бороться с дисбалансом с помощью подхода Over-sampling. Протестировано несколько методов и по итогу выбран SMOTE. После обновления данных accuracy на тестовой выборке упал до 0.77, а на тренировочной вырос до 0.95, что свидетельствует о переобучении. Было принято решение не бороться с переобучением, а сразу перейти к более сложному алгоритму градиентного бустинга. Были выбраны две библиотеки, в которых реализуется данный алгоритм: XGBoost и CatBoost. В первой показатель accuracy был 0.93 и 0.89 на тренировочной и тестовой выборках соответсвенно, а f1-score 93 и 68, что является значимым улучшением модели. Модель из библиотеки CatBoost дала еще более хорошие значения показателей качества модели: accuracy 0.95 и 0.9, на тренировочной и тестовой выборках соответсвенно, а f1-score 0.94 и 0.69. Таким образом для решения данной задачи мною была выбрана модель машинного обучения реализованная методом градиентного бустинга из библиотеки CatBoost."
      ],
      "metadata": {
        "id": "kK603qtIBVy-"
      }
    },
    {
      "cell_type": "markdown",
      "source": [
        "#11. NN"
      ],
      "metadata": {
        "id": "BO9p0hKn9KL9"
      }
    },
    {
      "cell_type": "markdown",
      "source": [
        "## 11.1. MPL"
      ],
      "metadata": {
        "id": "5ZJRukwj-s8S"
      }
    },
    {
      "cell_type": "code",
      "source": [
        "from sklearn.neural_network import MLPClassifier\n",
        "\n",
        "MLP_model = MLPClassifier(hidden_layer_sizes=(10, 5), random_state=88)\n",
        "MLP_model.fit(X_SMOTE_train, y_SMOTE_train)"
      ],
      "metadata": {
        "id": "WlDzzOaXSq_L",
        "colab": {
          "base_uri": "https://localhost:8080/"
        },
        "outputId": "0a6d6610-736c-4723-f59f-f31c5e5f1073"
      },
      "execution_count": null,
      "outputs": [
        {
          "output_type": "stream",
          "name": "stderr",
          "text": [
            "/usr/local/lib/python3.8/dist-packages/sklearn/neural_network/_multilayer_perceptron.py:692: ConvergenceWarning: Stochastic Optimizer: Maximum iterations (200) reached and the optimization hasn't converged yet.\n",
            "  warnings.warn(\n"
          ]
        },
        {
          "output_type": "execute_result",
          "data": {
            "text/plain": [
              "MLPClassifier(hidden_layer_sizes=(10, 5), random_state=88)"
            ]
          },
          "metadata": {},
          "execution_count": 40
        }
      ]
    },
    {
      "cell_type": "code",
      "source": [
        "y_test_prediction = MLP_model.predict(X_test)\n",
        "\n",
        "print_model_scores(\n",
        "    MLP_model, \n",
        "    X_SMOTE_train, \n",
        "    y_SMOTE_train, \n",
        "    X_test, y_test, \n",
        "    y_test_prediction\n",
        ")"
      ],
      "metadata": {
        "colab": {
          "base_uri": "https://localhost:8080/",
          "height": 520
        },
        "id": "VETHP-LF-7Nn",
        "outputId": "d0ccd476-fe8e-474b-c978-1b5f300a775e"
      },
      "execution_count": null,
      "outputs": [
        {
          "output_type": "stream",
          "name": "stdout",
          "text": [
            "Train accuracy: 0.92\n",
            "\n",
            "Test scores:\n",
            "              precision    recall  f1-score   support\n",
            "\n",
            "           0       0.95      0.87      0.91      3112\n",
            "           1       0.52      0.77      0.62       585\n",
            "\n",
            "    accuracy                           0.85      3697\n",
            "   macro avg       0.74      0.82      0.76      3697\n",
            "weighted avg       0.88      0.85      0.86      3697\n",
            "\n",
            "\n",
            "Confusion matrix:\n",
            "\n"
          ]
        },
        {
          "output_type": "display_data",
          "data": {
            "text/plain": [
              "<Figure size 432x288 with 1 Axes>"
            ],
            "image/png": "[encoded data removed]"
          },
          "metadata": {
            "needs_background": "light"
          }
        }
      ]
    },
    {
      "cell_type": "code",
      "source": [
        "from sklearn.metrics import mean_squared_error\n",
        "\n",
        "alpha_arr = np.logspace(-4, 5, 10)\n",
        "test_err = []\n",
        "train_err = []\n",
        "for alpha in alpha_arr:\n",
        "    mlp_model = MLPClassifier(hidden_layer_sizes = (10, 5), random_state = 88, alpha = alpha)\n",
        "    mlp_model.fit(X_train, y_train)\n",
        "\n",
        "    y_train_pred = mlp_model.predict(X_train)\n",
        "    y_test_pred = mlp_model.predict(X_test)\n",
        "    train_err.append(mean_squared_error(y_train, y_train_pred))\n",
        "    test_err.append(mean_squared_error(y_test, y_test_pred))\n",
        "\n",
        "plt.semilogx(alpha_arr, train_err, 'r-o', label = 'train')\n",
        "plt.semilogx(alpha_arr, test_err, 'b-o', label = 'test')\n",
        "plt.xlim([np.max(alpha_arr), np.min(alpha_arr)])\n",
        "plt.title('Error vs. alpha')\n",
        "plt.xlabel('alpha')\n",
        "plt.ylabel('error')\n",
        "plt.legend()\n",
        "pass"
      ],
      "metadata": {
        "colab": {
          "base_uri": "https://localhost:8080/",
          "height": 455
        },
        "id": "jOMKPy6V_xMy",
        "outputId": "8d988e07-1b8b-43a6-805e-ffb874927fae"
      },
      "execution_count": null,
      "outputs": [
        {
          "output_type": "stream",
          "name": "stderr",
          "text": [
            "/usr/local/lib/python3.8/dist-packages/sklearn/neural_network/_multilayer_perceptron.py:692: ConvergenceWarning: Stochastic Optimizer: Maximum iterations (200) reached and the optimization hasn't converged yet.\n",
            "  warnings.warn(\n",
            "/usr/local/lib/python3.8/dist-packages/sklearn/neural_network/_multilayer_perceptron.py:692: ConvergenceWarning: Stochastic Optimizer: Maximum iterations (200) reached and the optimization hasn't converged yet.\n",
            "  warnings.warn(\n",
            "/usr/local/lib/python3.8/dist-packages/sklearn/neural_network/_multilayer_perceptron.py:692: ConvergenceWarning: Stochastic Optimizer: Maximum iterations (200) reached and the optimization hasn't converged yet.\n",
            "  warnings.warn(\n",
            "/usr/local/lib/python3.8/dist-packages/sklearn/neural_network/_multilayer_perceptron.py:692: ConvergenceWarning: Stochastic Optimizer: Maximum iterations (200) reached and the optimization hasn't converged yet.\n",
            "  warnings.warn(\n"
          ]
        },
        {
          "output_type": "display_data",
          "data": {
            "text/plain": [
              "<Figure size 432x288 with 1 Axes>"
            ],
            "image/png": "[encoded data removed]"
          },
          "metadata": {
            "needs_background": "light"
          }
        }
      ]
    },
    {
      "cell_type": "markdown",
      "source": [
        "По качеству MLP модель оказалась сравнима с моделями градиентного бустинга, но у нее в два раза больше ошибок первого рода  \n",
        "Модель очень плохо различает 1 класс"
      ],
      "metadata": {
        "id": "YUp3WdkgTO8k"
      }
    }
  ]
}